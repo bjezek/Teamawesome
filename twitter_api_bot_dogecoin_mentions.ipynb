{
 "cells": [
  {
   "cell_type": "markdown",
   "id": "cfa63955-013e-4126-bf15-b3ddbcd6e570",
   "metadata": {},
   "source": [
    "# Notebook Summary\n",
    "\n",
    "The purpose of this notebook is to implement a trading strategy where you're buying/selling dogecoin based on sentiment from Elon Musk's twitter feed \n"
   ]
  },
  {
   "cell_type": "markdown",
   "id": "0acf07ff-80eb-400b-8b09-aa46b979dc4d",
   "metadata": {},
   "source": [
    "# Save Your Credentials in Your .env File\n",
    "\n",
    "##  Alpaca\n",
    "\n",
    "Make sure you have a .env file set up with your Alpaca API keys. The notebook is looking for your Alpaca API keys in this format: \n",
    "\n",
    "API_KEY = \"xxx\"\n",
    "\n",
    "API_SECRET = \"xxx\"\n",
    "\n",
    "## Twitter\n",
    "\n",
    "Link to Twitter Developer API Portal: https://developer.twitter.com/en\n",
    "\n",
    "Make sure you also store your credentials for the twitter developer api in your .env file. \n",
    "This notebook assumes that you have \"essential\" access (please note that you can request a higher access level)\n",
    "\n",
    "The additional Twitter credentials you need to store in the .env file are the following: \n",
    "\n",
    "TWITTER_API_KEY = \"XXX\"\n",
    "\n",
    "TWITTER_API_KEY = \"XXX\"\n",
    "\n",
    "TWITTER_API_SECRET_KEY = \"XXX\"\n",
    "\n",
    "TWITTER_BEARER_TOKEN = \"XXX\"\n",
    "\n",
    "TWITTER_ACCESS_TOKEN = \"XXX\"\n",
    "\n",
    "TWITTER_ACCESS_TOKEN_SECRET = \"XXX\""
   ]
  },
  {
   "cell_type": "code",
   "execution_count": 34,
   "id": "bf446c51-914c-473c-9105-ef2c436fd822",
   "metadata": {},
   "outputs": [],
   "source": [
    "import pandas as pd\n",
    "from twarc import Twarc2, expansions\n",
    "import json\n",
    "from dotenv import load_dotenv\n",
    "import os\n",
    "import alpaca_trade_api as tradeapi\n",
    "from alpaca_trade_api.rest import TimeFrame, TimeFrameUnit\n",
    "import datetime\n",
    "import tweepy\n",
    "import requests\n",
    "from dotenv import load_dotenv\n",
    "\n",
    "#Twitter API Github Examples Found Here:\n",
    "## https://github.com/twitterdev/getting-started-with-the-twitter-api-v2-for-academic-research/blob/main/modules/6a-labs-code-academic-python.md"
   ]
  },
  {
   "cell_type": "code",
   "execution_count": 35,
   "id": "db8051eb-e623-4f0c-97bb-4d1cc2cd8422",
   "metadata": {},
   "outputs": [
    {
     "data": {
      "text/plain": [
       "True"
      ]
     },
     "execution_count": 35,
     "metadata": {},
     "output_type": "execute_result"
    }
   ],
   "source": [
    "# Load the environment variables from the .env file\n",
    "load_dotenv()"
   ]
  },
  {
   "cell_type": "markdown",
   "id": "a71f0aa0-09a4-443a-b3ca-f42648caa996",
   "metadata": {},
   "source": [
    "# Connect to Alpaca Paper Trading API"
   ]
  },
  {
   "cell_type": "code",
   "execution_count": 36,
   "id": "4f83f153-0fd1-4bfb-9edd-1f59a4bb830e",
   "metadata": {},
   "outputs": [],
   "source": [
    "API_KEY = os.getenv(\"ALPACA_API_KEY\")\n",
    "API_SECRET = os.getenv(\"ALPACA_SECRET_KEY\")\n",
    "ALPACA_API_BASE_URL = \"https://paper-api.alpaca.markets\" #notice \"PAPER\" in the URL"
   ]
  },
  {
   "cell_type": "code",
   "execution_count": 37,
   "id": "0dec52aa-1964-471e-9372-360791066a5e",
   "metadata": {},
   "outputs": [],
   "source": [
    "# Create a connection to the API \n",
    "api = tradeapi.REST(API_KEY, API_SECRET, ALPACA_API_BASE_URL, api_version=\"v2\")"
   ]
  },
  {
   "cell_type": "markdown",
   "id": "dc2631e6-72ce-4e49-a7df-42885526a398",
   "metadata": {},
   "source": [
    "# Create client for Twitter API"
   ]
  },
  {
   "cell_type": "code",
   "execution_count": 5,
   "id": "32f4a6dc-9b2b-4d95-a402-810c4e1ed13f",
   "metadata": {},
   "outputs": [],
   "source": [
    "# grab twitter keys, following instructions from github: \n",
    "\n",
    "#client = Twarc2(bearer_token=os.getenv(\"TWITTER_BEARER_TOKEN\"))\n",
    "TWITTER_API_KEY = os.getenv(\"TWITTER_API_KEY\")\n",
    "TWITTER_API_SECRET_KEY = os.getenv(\"TWITTER_API_SECRET_KEY\")\n",
    "TWITTER_BEARER_TOKEN = os.getenv(\"TWITTER_BEARER_TOKEN\")\n",
    "TWITTER_ACCESS_TOKEN = os.getenv(\"TWITTER_ACCESS_TOKEN\")\n",
    "TWITTER_ACCESS_TOKEN_SECRET = os.getenv(\"TWITTER_ACCESS_TOKEN_SECRET\")"
   ]
  },
  {
   "cell_type": "code",
   "execution_count": 6,
   "id": "15c5365a-885a-42dc-9f02-c168db8cac83",
   "metadata": {},
   "outputs": [
    {
     "data": {
      "text/plain": [
       "'4.10.1'"
      ]
     },
     "execution_count": 6,
     "metadata": {},
     "output_type": "execute_result"
    }
   ],
   "source": [
    "tweepy.__version__"
   ]
  },
  {
   "cell_type": "code",
   "execution_count": 7,
   "id": "5deb8af3-4829-47b4-97a8-93647dc7a349",
   "metadata": {},
   "outputs": [],
   "source": [
    "client = tweepy.Client( bearer_token=TWITTER_BEARER_TOKEN, \n",
    "                        consumer_key=TWITTER_API_KEY, \n",
    "                        consumer_secret=TWITTER_API_SECRET_KEY, \n",
    "                        access_token=TWITTER_ACCESS_TOKEN, \n",
    "                        access_token_secret=TWITTER_ACCESS_TOKEN_SECRET, \n",
    "                        return_type = requests.Response,\n",
    "                        wait_on_rate_limit=True)"
   ]
  },
  {
   "cell_type": "markdown",
   "id": "e52734db-9f18-4437-96cb-eb198feefa31",
   "metadata": {},
   "source": [
    "# Find recent tweets from Elon Musk:\n",
    "\n",
    "Right now, API returns a max of 100 tweets over the past 7 days. API access needs to be upgraded from \"essential\" in order to go back more days. \n",
    "Other fields besides 'author_id' and 'created_at' can be returned as well.\n"
   ]
  },
  {
   "cell_type": "code",
   "execution_count": 8,
   "id": "79e10b35-0086-41c6-b8a3-4a8167b8f4cf",
   "metadata": {},
   "outputs": [],
   "source": [
    "#https://www.kirenz.com/post/2021-12-10-twitter-api-v2-tweepy-and-pandas-in-python/twitter-api-v2-tweepy-and-pandas-in-python/\n",
    "\n",
    "# Define query\n",
    "query = 'from:elonmusk'# -is:retweet'\n",
    "\n",
    "# get max. 100 tweets\n",
    "tweets = client.search_recent_tweets(query=query, \n",
    "                                    tweet_fields=['author_id', 'created_at'], #there are more fields we could grab\n",
    "                                     max_results=100)"
   ]
  },
  {
   "cell_type": "code",
   "execution_count": 9,
   "id": "6999056a-16b5-47a5-a2e0-a799183de572",
   "metadata": {},
   "outputs": [
    {
     "data": {
      "text/html": [
       "<div>\n",
       "<style scoped>\n",
       "    .dataframe tbody tr th:only-of-type {\n",
       "        vertical-align: middle;\n",
       "    }\n",
       "\n",
       "    .dataframe tbody tr th {\n",
       "        vertical-align: top;\n",
       "    }\n",
       "\n",
       "    .dataframe thead th {\n",
       "        text-align: right;\n",
       "    }\n",
       "</style>\n",
       "<table border=\"1\" class=\"dataframe\">\n",
       "  <thead>\n",
       "    <tr style=\"text-align: right;\">\n",
       "      <th></th>\n",
       "      <th>text</th>\n",
       "      <th>id</th>\n",
       "      <th>created_at</th>\n",
       "      <th>author_id</th>\n",
       "    </tr>\n",
       "  </thead>\n",
       "  <tbody>\n",
       "    <tr>\n",
       "      <th>0</th>\n",
       "      <td>@PopMech Why is this a PopMech story?</td>\n",
       "      <td>1573026765295030273</td>\n",
       "      <td>2022-09-22T19:09:40.000Z</td>\n",
       "      <td>44196397</td>\n",
       "    </tr>\n",
       "    <tr>\n",
       "      <th>1</th>\n",
       "      <td>@BillyM2k https://t.co/vFVHaB1l4t https://t.co...</td>\n",
       "      <td>1573007878042296320</td>\n",
       "      <td>2022-09-22T17:54:37.000Z</td>\n",
       "      <td>44196397</td>\n",
       "    </tr>\n",
       "    <tr>\n",
       "      <th>2</th>\n",
       "      <td>@ajtourville @Twitter @paraga Yup (sigh)</td>\n",
       "      <td>1573004188791066627</td>\n",
       "      <td>2022-09-22T17:39:58.000Z</td>\n",
       "      <td>44196397</td>\n",
       "    </tr>\n",
       "    <tr>\n",
       "      <th>3</th>\n",
       "      <td>@MuskUniversity Fully reusable orbital rockets...</td>\n",
       "      <td>1572986371295289351</td>\n",
       "      <td>2022-09-22T16:29:10.000Z</td>\n",
       "      <td>44196397</td>\n",
       "    </tr>\n",
       "    <tr>\n",
       "      <th>4</th>\n",
       "      <td>@stocktalkweekly @WholeMarsBlog @SawyerMerritt...</td>\n",
       "      <td>1572985952683065345</td>\n",
       "      <td>2022-09-22T16:27:30.000Z</td>\n",
       "      <td>44196397</td>\n",
       "    </tr>\n",
       "  </tbody>\n",
       "</table>\n",
       "</div>"
      ],
      "text/plain": [
       "                                                text                   id  \\\n",
       "0              @PopMech Why is this a PopMech story?  1573026765295030273   \n",
       "1  @BillyM2k https://t.co/vFVHaB1l4t https://t.co...  1573007878042296320   \n",
       "2           @ajtourville @Twitter @paraga Yup (sigh)  1573004188791066627   \n",
       "3  @MuskUniversity Fully reusable orbital rockets...  1572986371295289351   \n",
       "4  @stocktalkweekly @WholeMarsBlog @SawyerMerritt...  1572985952683065345   \n",
       "\n",
       "                 created_at author_id  \n",
       "0  2022-09-22T19:09:40.000Z  44196397  \n",
       "1  2022-09-22T17:54:37.000Z  44196397  \n",
       "2  2022-09-22T17:39:58.000Z  44196397  \n",
       "3  2022-09-22T16:29:10.000Z  44196397  \n",
       "4  2022-09-22T16:27:30.000Z  44196397  "
      ]
     },
     "execution_count": 9,
     "metadata": {},
     "output_type": "execute_result"
    }
   ],
   "source": [
    "# Save data as dictionary\n",
    "tweets_dict = tweets.json() \n",
    "\n",
    "# Extract \"data\" value from dictionary\n",
    "tweets_data = tweets_dict['data'] \n",
    "\n",
    "# Transform to pandas Dataframe\n",
    "df = pd.json_normalize(tweets_data) \n",
    "df.head()"
   ]
  },
  {
   "cell_type": "code",
   "execution_count": 10,
   "id": "1a58cd54-e780-48cd-beed-9ad8c2cbe54e",
   "metadata": {},
   "outputs": [
    {
     "data": {
      "text/html": [
       "<div>\n",
       "<style scoped>\n",
       "    .dataframe tbody tr th:only-of-type {\n",
       "        vertical-align: middle;\n",
       "    }\n",
       "\n",
       "    .dataframe tbody tr th {\n",
       "        vertical-align: top;\n",
       "    }\n",
       "\n",
       "    .dataframe thead th {\n",
       "        text-align: right;\n",
       "    }\n",
       "</style>\n",
       "<table border=\"1\" class=\"dataframe\">\n",
       "  <thead>\n",
       "    <tr style=\"text-align: right;\">\n",
       "      <th></th>\n",
       "      <th>text</th>\n",
       "      <th>id</th>\n",
       "      <th>created_at</th>\n",
       "      <th>author_id</th>\n",
       "      <th>Date</th>\n",
       "    </tr>\n",
       "  </thead>\n",
       "  <tbody>\n",
       "    <tr>\n",
       "      <th>0</th>\n",
       "      <td>@PopMech Why is this a PopMech story?</td>\n",
       "      <td>1573026765295030273</td>\n",
       "      <td>2022-09-22T19:09:40.000Z</td>\n",
       "      <td>44196397</td>\n",
       "      <td>2022-09-22</td>\n",
       "    </tr>\n",
       "    <tr>\n",
       "      <th>1</th>\n",
       "      <td>@BillyM2k https://t.co/vFVHaB1l4t https://t.co...</td>\n",
       "      <td>1573007878042296320</td>\n",
       "      <td>2022-09-22T17:54:37.000Z</td>\n",
       "      <td>44196397</td>\n",
       "      <td>2022-09-22</td>\n",
       "    </tr>\n",
       "    <tr>\n",
       "      <th>2</th>\n",
       "      <td>@ajtourville @Twitter @paraga Yup (sigh)</td>\n",
       "      <td>1573004188791066627</td>\n",
       "      <td>2022-09-22T17:39:58.000Z</td>\n",
       "      <td>44196397</td>\n",
       "      <td>2022-09-22</td>\n",
       "    </tr>\n",
       "    <tr>\n",
       "      <th>3</th>\n",
       "      <td>@MuskUniversity Fully reusable orbital rockets...</td>\n",
       "      <td>1572986371295289351</td>\n",
       "      <td>2022-09-22T16:29:10.000Z</td>\n",
       "      <td>44196397</td>\n",
       "      <td>2022-09-22</td>\n",
       "    </tr>\n",
       "    <tr>\n",
       "      <th>4</th>\n",
       "      <td>@stocktalkweekly @WholeMarsBlog @SawyerMerritt...</td>\n",
       "      <td>1572985952683065345</td>\n",
       "      <td>2022-09-22T16:27:30.000Z</td>\n",
       "      <td>44196397</td>\n",
       "      <td>2022-09-22</td>\n",
       "    </tr>\n",
       "  </tbody>\n",
       "</table>\n",
       "</div>"
      ],
      "text/plain": [
       "                                                text                   id  \\\n",
       "0              @PopMech Why is this a PopMech story?  1573026765295030273   \n",
       "1  @BillyM2k https://t.co/vFVHaB1l4t https://t.co...  1573007878042296320   \n",
       "2           @ajtourville @Twitter @paraga Yup (sigh)  1573004188791066627   \n",
       "3  @MuskUniversity Fully reusable orbital rockets...  1572986371295289351   \n",
       "4  @stocktalkweekly @WholeMarsBlog @SawyerMerritt...  1572985952683065345   \n",
       "\n",
       "                 created_at author_id       Date  \n",
       "0  2022-09-22T19:09:40.000Z  44196397 2022-09-22  \n",
       "1  2022-09-22T17:54:37.000Z  44196397 2022-09-22  \n",
       "2  2022-09-22T17:39:58.000Z  44196397 2022-09-22  \n",
       "3  2022-09-22T16:29:10.000Z  44196397 2022-09-22  \n",
       "4  2022-09-22T16:27:30.000Z  44196397 2022-09-22  "
      ]
     },
     "execution_count": 10,
     "metadata": {},
     "output_type": "execute_result"
    }
   ],
   "source": [
    "#Create pandas date column\n",
    "\n",
    "df[\"Date\"] = df[\"created_at\"].str[:10]\n",
    "#df[\"Date\"] = df[\"created_at\"].dt.tz_localize(None)\n",
    "df[\"Date\"] = pd.to_datetime(df['Date'])\n",
    "df.head()"
   ]
  },
  {
   "cell_type": "code",
   "execution_count": 14,
   "id": "e7be51ca-2481-4baf-b9b6-125ec7eef44e",
   "metadata": {},
   "outputs": [
    {
     "data": {
      "text/html": [
       "<div>\n",
       "<style scoped>\n",
       "    .dataframe tbody tr th:only-of-type {\n",
       "        vertical-align: middle;\n",
       "    }\n",
       "\n",
       "    .dataframe tbody tr th {\n",
       "        vertical-align: top;\n",
       "    }\n",
       "\n",
       "    .dataframe thead th {\n",
       "        text-align: right;\n",
       "    }\n",
       "</style>\n",
       "<table border=\"1\" class=\"dataframe\">\n",
       "  <thead>\n",
       "    <tr style=\"text-align: right;\">\n",
       "      <th></th>\n",
       "      <th>text</th>\n",
       "      <th>id</th>\n",
       "      <th>created_at</th>\n",
       "      <th>author_id</th>\n",
       "      <th>Date</th>\n",
       "      <th>Time</th>\n",
       "    </tr>\n",
       "  </thead>\n",
       "  <tbody>\n",
       "    <tr>\n",
       "      <th>0</th>\n",
       "      <td>@PopMech Why is this a PopMech story?</td>\n",
       "      <td>1573026765295030273</td>\n",
       "      <td>2022-09-22T19:09:40.000Z</td>\n",
       "      <td>44196397</td>\n",
       "      <td>2022-09-22</td>\n",
       "      <td>19:09:40</td>\n",
       "    </tr>\n",
       "    <tr>\n",
       "      <th>1</th>\n",
       "      <td>@BillyM2k https://t.co/vFVHaB1l4t https://t.co...</td>\n",
       "      <td>1573007878042296320</td>\n",
       "      <td>2022-09-22T17:54:37.000Z</td>\n",
       "      <td>44196397</td>\n",
       "      <td>2022-09-22</td>\n",
       "      <td>17:54:37</td>\n",
       "    </tr>\n",
       "    <tr>\n",
       "      <th>2</th>\n",
       "      <td>@ajtourville @Twitter @paraga Yup (sigh)</td>\n",
       "      <td>1573004188791066627</td>\n",
       "      <td>2022-09-22T17:39:58.000Z</td>\n",
       "      <td>44196397</td>\n",
       "      <td>2022-09-22</td>\n",
       "      <td>17:39:58</td>\n",
       "    </tr>\n",
       "    <tr>\n",
       "      <th>3</th>\n",
       "      <td>@MuskUniversity Fully reusable orbital rockets...</td>\n",
       "      <td>1572986371295289351</td>\n",
       "      <td>2022-09-22T16:29:10.000Z</td>\n",
       "      <td>44196397</td>\n",
       "      <td>2022-09-22</td>\n",
       "      <td>16:29:10</td>\n",
       "    </tr>\n",
       "    <tr>\n",
       "      <th>4</th>\n",
       "      <td>@stocktalkweekly @WholeMarsBlog @SawyerMerritt...</td>\n",
       "      <td>1572985952683065345</td>\n",
       "      <td>2022-09-22T16:27:30.000Z</td>\n",
       "      <td>44196397</td>\n",
       "      <td>2022-09-22</td>\n",
       "      <td>16:27:30</td>\n",
       "    </tr>\n",
       "  </tbody>\n",
       "</table>\n",
       "</div>"
      ],
      "text/plain": [
       "                                                text                   id  \\\n",
       "0              @PopMech Why is this a PopMech story?  1573026765295030273   \n",
       "1  @BillyM2k https://t.co/vFVHaB1l4t https://t.co...  1573007878042296320   \n",
       "2           @ajtourville @Twitter @paraga Yup (sigh)  1573004188791066627   \n",
       "3  @MuskUniversity Fully reusable orbital rockets...  1572986371295289351   \n",
       "4  @stocktalkweekly @WholeMarsBlog @SawyerMerritt...  1572985952683065345   \n",
       "\n",
       "                 created_at author_id       Date      Time  \n",
       "0  2022-09-22T19:09:40.000Z  44196397 2022-09-22  19:09:40  \n",
       "1  2022-09-22T17:54:37.000Z  44196397 2022-09-22  17:54:37  \n",
       "2  2022-09-22T17:39:58.000Z  44196397 2022-09-22  17:39:58  \n",
       "3  2022-09-22T16:29:10.000Z  44196397 2022-09-22  16:29:10  \n",
       "4  2022-09-22T16:27:30.000Z  44196397 2022-09-22  16:27:30  "
      ]
     },
     "execution_count": 14,
     "metadata": {},
     "output_type": "execute_result"
    }
   ],
   "source": [
    "#Create pandas time column\n",
    "\n",
    "df[\"Time\"] = df[\"created_at\"].str[11:19]\n",
    "#df[\"Date\"] = df[\"created_at\"].dt.tz_localize(None)\n",
    "df[\"Time\"] = pd.to_datetime(df['Time'], format='%H:%M:%S').dt.time\n",
    "df.head()"
   ]
  },
  {
   "cell_type": "code",
   "execution_count": 15,
   "id": "b0463824-baef-4ab1-9a49-1090bddbe3cc",
   "metadata": {},
   "outputs": [
    {
     "data": {
      "text/html": [
       "<div>\n",
       "<style scoped>\n",
       "    .dataframe tbody tr th:only-of-type {\n",
       "        vertical-align: middle;\n",
       "    }\n",
       "\n",
       "    .dataframe tbody tr th {\n",
       "        vertical-align: top;\n",
       "    }\n",
       "\n",
       "    .dataframe thead th {\n",
       "        text-align: right;\n",
       "    }\n",
       "</style>\n",
       "<table border=\"1\" class=\"dataframe\">\n",
       "  <thead>\n",
       "    <tr style=\"text-align: right;\">\n",
       "      <th></th>\n",
       "      <th>text</th>\n",
       "      <th>id</th>\n",
       "      <th>created_at</th>\n",
       "      <th>author_id</th>\n",
       "      <th>Time</th>\n",
       "    </tr>\n",
       "    <tr>\n",
       "      <th>Date</th>\n",
       "      <th></th>\n",
       "      <th></th>\n",
       "      <th></th>\n",
       "      <th></th>\n",
       "      <th></th>\n",
       "    </tr>\n",
       "  </thead>\n",
       "  <tbody>\n",
       "    <tr>\n",
       "      <th>2022-09-22</th>\n",
       "      <td>@PopMech Why is this a PopMech story?</td>\n",
       "      <td>1573026765295030273</td>\n",
       "      <td>2022-09-22T19:09:40.000Z</td>\n",
       "      <td>44196397</td>\n",
       "      <td>19:09:40</td>\n",
       "    </tr>\n",
       "    <tr>\n",
       "      <th>2022-09-22</th>\n",
       "      <td>@BillyM2k https://t.co/vFVHaB1l4t https://t.co...</td>\n",
       "      <td>1573007878042296320</td>\n",
       "      <td>2022-09-22T17:54:37.000Z</td>\n",
       "      <td>44196397</td>\n",
       "      <td>17:54:37</td>\n",
       "    </tr>\n",
       "    <tr>\n",
       "      <th>2022-09-22</th>\n",
       "      <td>@ajtourville @Twitter @paraga Yup (sigh)</td>\n",
       "      <td>1573004188791066627</td>\n",
       "      <td>2022-09-22T17:39:58.000Z</td>\n",
       "      <td>44196397</td>\n",
       "      <td>17:39:58</td>\n",
       "    </tr>\n",
       "    <tr>\n",
       "      <th>2022-09-22</th>\n",
       "      <td>@MuskUniversity Fully reusable orbital rockets...</td>\n",
       "      <td>1572986371295289351</td>\n",
       "      <td>2022-09-22T16:29:10.000Z</td>\n",
       "      <td>44196397</td>\n",
       "      <td>16:29:10</td>\n",
       "    </tr>\n",
       "    <tr>\n",
       "      <th>2022-09-22</th>\n",
       "      <td>@stocktalkweekly @WholeMarsBlog @SawyerMerritt...</td>\n",
       "      <td>1572985952683065345</td>\n",
       "      <td>2022-09-22T16:27:30.000Z</td>\n",
       "      <td>44196397</td>\n",
       "      <td>16:27:30</td>\n",
       "    </tr>\n",
       "  </tbody>\n",
       "</table>\n",
       "</div>"
      ],
      "text/plain": [
       "                                                         text  \\\n",
       "Date                                                            \n",
       "2022-09-22              @PopMech Why is this a PopMech story?   \n",
       "2022-09-22  @BillyM2k https://t.co/vFVHaB1l4t https://t.co...   \n",
       "2022-09-22           @ajtourville @Twitter @paraga Yup (sigh)   \n",
       "2022-09-22  @MuskUniversity Fully reusable orbital rockets...   \n",
       "2022-09-22  @stocktalkweekly @WholeMarsBlog @SawyerMerritt...   \n",
       "\n",
       "                             id                created_at author_id      Time  \n",
       "Date                                                                           \n",
       "2022-09-22  1573026765295030273  2022-09-22T19:09:40.000Z  44196397  19:09:40  \n",
       "2022-09-22  1573007878042296320  2022-09-22T17:54:37.000Z  44196397  17:54:37  \n",
       "2022-09-22  1573004188791066627  2022-09-22T17:39:58.000Z  44196397  17:39:58  \n",
       "2022-09-22  1572986371295289351  2022-09-22T16:29:10.000Z  44196397  16:29:10  \n",
       "2022-09-22  1572985952683065345  2022-09-22T16:27:30.000Z  44196397  16:27:30  "
      ]
     },
     "metadata": {},
     "output_type": "display_data"
    },
    {
     "data": {
      "text/html": [
       "<div>\n",
       "<style scoped>\n",
       "    .dataframe tbody tr th:only-of-type {\n",
       "        vertical-align: middle;\n",
       "    }\n",
       "\n",
       "    .dataframe tbody tr th {\n",
       "        vertical-align: top;\n",
       "    }\n",
       "\n",
       "    .dataframe thead th {\n",
       "        text-align: right;\n",
       "    }\n",
       "</style>\n",
       "<table border=\"1\" class=\"dataframe\">\n",
       "  <thead>\n",
       "    <tr style=\"text-align: right;\">\n",
       "      <th></th>\n",
       "      <th>text</th>\n",
       "      <th>id</th>\n",
       "      <th>created_at</th>\n",
       "      <th>author_id</th>\n",
       "      <th>Time</th>\n",
       "    </tr>\n",
       "    <tr>\n",
       "      <th>Date</th>\n",
       "      <th></th>\n",
       "      <th></th>\n",
       "      <th></th>\n",
       "      <th></th>\n",
       "      <th></th>\n",
       "    </tr>\n",
       "  </thead>\n",
       "  <tbody>\n",
       "    <tr>\n",
       "      <th>2022-09-21</th>\n",
       "      <td>@teslaownersSV @RBReich Reich is suicidally bo...</td>\n",
       "      <td>1572415723846406151</td>\n",
       "      <td>2022-09-21T02:41:37.000Z</td>\n",
       "      <td>44196397</td>\n",
       "      <td>02:41:37</td>\n",
       "    </tr>\n",
       "    <tr>\n",
       "      <th>2022-09-21</th>\n",
       "      <td>@TrungTPhan 🤣</td>\n",
       "      <td>1572415147049623552</td>\n",
       "      <td>2022-09-21T02:39:19.000Z</td>\n",
       "      <td>44196397</td>\n",
       "      <td>02:39:19</td>\n",
       "    </tr>\n",
       "    <tr>\n",
       "      <th>2022-09-21</th>\n",
       "      <td>@RBReich You both an idiot and a liar</td>\n",
       "      <td>1572414455681814528</td>\n",
       "      <td>2022-09-21T02:36:34.000Z</td>\n",
       "      <td>44196397</td>\n",
       "      <td>02:36:34</td>\n",
       "    </tr>\n",
       "    <tr>\n",
       "      <th>2022-09-21</th>\n",
       "      <td>@BillyM2k 🤣</td>\n",
       "      <td>1572396931866918914</td>\n",
       "      <td>2022-09-21T01:26:56.000Z</td>\n",
       "      <td>44196397</td>\n",
       "      <td>01:26:56</td>\n",
       "    </tr>\n",
       "    <tr>\n",
       "      <th>2022-09-21</th>\n",
       "      <td>@ajtourville @parag @Twitter Curiouser and cur...</td>\n",
       "      <td>1572396742267609090</td>\n",
       "      <td>2022-09-21T01:26:11.000Z</td>\n",
       "      <td>44196397</td>\n",
       "      <td>01:26:11</td>\n",
       "    </tr>\n",
       "  </tbody>\n",
       "</table>\n",
       "</div>"
      ],
      "text/plain": [
       "                                                         text  \\\n",
       "Date                                                            \n",
       "2022-09-21  @teslaownersSV @RBReich Reich is suicidally bo...   \n",
       "2022-09-21                                      @TrungTPhan 🤣   \n",
       "2022-09-21              @RBReich You both an idiot and a liar   \n",
       "2022-09-21                                        @BillyM2k 🤣   \n",
       "2022-09-21  @ajtourville @parag @Twitter Curiouser and cur...   \n",
       "\n",
       "                             id                created_at author_id      Time  \n",
       "Date                                                                           \n",
       "2022-09-21  1572415723846406151  2022-09-21T02:41:37.000Z  44196397  02:41:37  \n",
       "2022-09-21  1572415147049623552  2022-09-21T02:39:19.000Z  44196397  02:39:19  \n",
       "2022-09-21  1572414455681814528  2022-09-21T02:36:34.000Z  44196397  02:36:34  \n",
       "2022-09-21  1572396931866918914  2022-09-21T01:26:56.000Z  44196397  01:26:56  \n",
       "2022-09-21  1572396742267609090  2022-09-21T01:26:11.000Z  44196397  01:26:11  "
      ]
     },
     "metadata": {},
     "output_type": "display_data"
    }
   ],
   "source": [
    "# Filter to dates of interest\n",
    "# User to specify dates\n",
    "# May want to specify times later\n",
    "\n",
    "df = df.set_index(\"Date\")\n",
    "\n",
    "tweet_start_date = \"2022-09-21\"\n",
    "#tweet_start_date = pd.to_datetime(tweet_start_date)  #datetime.strptime(tweet_start_date, '%Y-%m-%d')\n",
    "\n",
    "tweet_end_date = \"2022-09-22\"\n",
    "#tweet_end_date = pd.to_datetime(tweet_end_date)\n",
    "\n",
    "df_tweets_fromtimeframe = df.loc[tweet_start_date:tweet_end_date]\n",
    "display(df_tweets_fromtimeframe.head())\n",
    "display(df_tweets_fromtimeframe.tail())"
   ]
  },
  {
   "cell_type": "markdown",
   "id": "9075658e-bbd2-4e99-97f3-f915471455ce",
   "metadata": {},
   "source": [
    "# Run Twitter Sentiment Analysis on Text & Buy/Sell Dogecoin Depending on Sentiment\n",
    "\n",
    "Algorithms below place market orders"
   ]
  },
  {
   "cell_type": "markdown",
   "id": "81feb8ce-2bd2-46d3-9217-e5706c1891b6",
   "metadata": {},
   "source": [
    "## Text sentiment analysis (update later)"
   ]
  },
  {
   "cell_type": "code",
   "execution_count": 26,
   "id": "7ae92360-92f7-4200-a024-39c18d07f092",
   "metadata": {},
   "outputs": [
    {
     "data": {
      "text/html": [
       "<div>\n",
       "<style scoped>\n",
       "    .dataframe tbody tr th:only-of-type {\n",
       "        vertical-align: middle;\n",
       "    }\n",
       "\n",
       "    .dataframe tbody tr th {\n",
       "        vertical-align: top;\n",
       "    }\n",
       "\n",
       "    .dataframe thead th {\n",
       "        text-align: right;\n",
       "    }\n",
       "</style>\n",
       "<table border=\"1\" class=\"dataframe\">\n",
       "  <thead>\n",
       "    <tr style=\"text-align: right;\">\n",
       "      <th></th>\n",
       "      <th>text</th>\n",
       "      <th>id</th>\n",
       "      <th>created_at</th>\n",
       "      <th>author_id</th>\n",
       "      <th>Time</th>\n",
       "      <th>text_upper</th>\n",
       "    </tr>\n",
       "    <tr>\n",
       "      <th>Date</th>\n",
       "      <th></th>\n",
       "      <th></th>\n",
       "      <th></th>\n",
       "      <th></th>\n",
       "      <th></th>\n",
       "      <th></th>\n",
       "    </tr>\n",
       "  </thead>\n",
       "  <tbody>\n",
       "    <tr>\n",
       "      <th>2022-09-21</th>\n",
       "      <td>@cb_doge @PPathole @RBReich 🤣</td>\n",
       "      <td>1572567768607916033</td>\n",
       "      <td>2022-09-21T12:45:47.000Z</td>\n",
       "      <td>44196397</td>\n",
       "      <td>12:45:47</td>\n",
       "      <td>@CB_DOGE @PPATHOLE @RBREICH 🤣</td>\n",
       "    </tr>\n",
       "    <tr>\n",
       "      <th>2022-09-18</th>\n",
       "      <td>@cb_doge 🤣</td>\n",
       "      <td>1571345862575460354</td>\n",
       "      <td>2022-09-18T03:50:22.000Z</td>\n",
       "      <td>44196397</td>\n",
       "      <td>03:50:22</td>\n",
       "      <td>@CB_DOGE 🤣</td>\n",
       "    </tr>\n",
       "    <tr>\n",
       "      <th>2022-09-17</th>\n",
       "      <td>@LarckeningXuruo @cb_doge It will be later thi...</td>\n",
       "      <td>1571148447444783105</td>\n",
       "      <td>2022-09-17T14:45:55.000Z</td>\n",
       "      <td>44196397</td>\n",
       "      <td>14:45:55</td>\n",
       "      <td>@LARCKENINGXURUO @CB_DOGE IT WILL BE LATER THI...</td>\n",
       "    </tr>\n",
       "  </tbody>\n",
       "</table>\n",
       "</div>"
      ],
      "text/plain": [
       "                                                         text  \\\n",
       "Date                                                            \n",
       "2022-09-21                      @cb_doge @PPathole @RBReich 🤣   \n",
       "2022-09-18                                         @cb_doge 🤣   \n",
       "2022-09-17  @LarckeningXuruo @cb_doge It will be later thi...   \n",
       "\n",
       "                             id                created_at author_id      Time  \\\n",
       "Date                                                                            \n",
       "2022-09-21  1572567768607916033  2022-09-21T12:45:47.000Z  44196397  12:45:47   \n",
       "2022-09-18  1571345862575460354  2022-09-18T03:50:22.000Z  44196397  03:50:22   \n",
       "2022-09-17  1571148447444783105  2022-09-17T14:45:55.000Z  44196397  14:45:55   \n",
       "\n",
       "                                                   text_upper  \n",
       "Date                                                           \n",
       "2022-09-21                      @CB_DOGE @PPATHOLE @RBREICH 🤣  \n",
       "2022-09-18                                         @CB_DOGE 🤣  \n",
       "2022-09-17  @LARCKENINGXURUO @CB_DOGE IT WILL BE LATER THI...  "
      ]
     },
     "metadata": {},
     "output_type": "display_data"
    },
    {
     "name": "stdout",
     "output_type": "stream",
     "text": [
      "\n",
      "Elon Musk talked about Dogecoin recently\n",
      "buy dogecoin with alpaca trading api, default value of 1000 coins. Update quantity if needed\n"
     ]
    }
   ],
   "source": [
    "# simple example: if Elon Musk talks about dogecoin, buy dogecoin: \n",
    "\n",
    "doge_terms = [\"DOGE\"]\n",
    "doge_qty = 1000\n",
    "\n",
    "df[\"text_upper\"] = df[\"text\"].str.upper()\n",
    "df_doge = df.loc[df[\"text_upper\"].str.contains('|'.join(doge_terms))]\n",
    "display(df_doge)\n",
    "\n",
    "if len(df_doge) > 0:\n",
    "    print(\"\\nElon Musk talked about Dogecoin recently\")\n",
    "    print(f\"buy dogecoin with alpaca trading api, default value of {doge_qty} coins. Update quantity if needed\")"
   ]
  },
  {
   "cell_type": "markdown",
   "id": "42e755f7-5b19-4bf0-ba61-481f5bc3ecd9",
   "metadata": {},
   "source": [
    "## Determine whether to buy/sell Dogecoin"
   ]
  },
  {
   "cell_type": "code",
   "execution_count": 27,
   "id": "272903c5-f975-4e84-9656-563d7810e46f",
   "metadata": {},
   "outputs": [
    {
     "name": "stdout",
     "output_type": "stream",
     "text": [
      "Elon Musk talked about Dogecoin recently\n",
      "buy dogecoin\n"
     ]
    }
   ],
   "source": [
    "buy_dogecoin = False\n",
    "\n",
    "if len(df_doge) > 0:\n",
    "    print(\"Elon Musk talked about Dogecoin recently\")\n",
    "    print(\"buy dogecoin\")\n",
    "    buy_dogecoin = True"
   ]
  },
  {
   "cell_type": "markdown",
   "id": "dbcaa764-4450-42f2-bdae-2e11c6dd3153",
   "metadata": {},
   "source": [
    "## Place trades with Alpaca trading API\n",
    "\n",
    "As of the time of writing the quantity of 1000 dogecoins corresponds to approx $60 USD worth"
   ]
  },
  {
   "cell_type": "code",
   "execution_count": null,
   "id": "87064f2c-ad49-4b0f-9833-4d881662d67a",
   "metadata": {},
   "outputs": [],
   "source": [
    "if buy_dogecoin == True:\n",
    "    api.submit_order('DOGEUSD', qty=1000, side='buy', time_in_force=\"gtc\")"
   ]
  },
  {
   "cell_type": "markdown",
   "id": "5cae870e-fcd0-44a8-bf6f-7de2ff1f07b3",
   "metadata": {},
   "source": [
    "## Make sure your order when through (open orders list should be empty)"
   ]
  },
  {
   "cell_type": "code",
   "execution_count": null,
   "id": "90f1b0c1-2cce-401c-bf1d-1b7dae644026",
   "metadata": {},
   "outputs": [],
   "source": [
    "# list all of your open orders: \n",
    "\n",
    "#https://forum.alpaca.markets/t/cancel-all-the-open-orders-using-python-api/2890/2\n",
    "\n",
    "open_orders_list = api.list_orders(status='open')\n",
    "open_orders_list"
   ]
  },
  {
   "cell_type": "markdown",
   "id": "d9f66be8-49bc-46fe-aa9b-7b517293ef4f",
   "metadata": {},
   "source": [
    "## Get details about the order that you recently placed"
   ]
  },
  {
   "cell_type": "code",
   "execution_count": null,
   "id": "4b0f37ae-00ef-4255-b7c4-54cef5f7578f",
   "metadata": {},
   "outputs": [],
   "source": [
    "# print closed orders\n",
    "\n",
    "closed_orders = api.list_orders(\n",
    "    status='closed',\n",
    "    limit=100,\n",
    "    nested=True  # show nested multi-leg orders\n",
    ")\n",
    "\n",
    "closed_orders = [o for o in closed_orders if o.symbol == 'DOGEUSD']\n",
    "print(closed_orders)"
   ]
  },
  {
   "cell_type": "code",
   "execution_count": null,
   "id": "9d734b7a-e28f-483d-a01a-11f257f8c4a1",
   "metadata": {},
   "outputs": [],
   "source": []
  }
 ],
 "metadata": {
  "kernelspec": {
   "display_name": "Python 3 (ipykernel)",
   "language": "python",
   "name": "python3"
  },
  "language_info": {
   "codemirror_mode": {
    "name": "ipython",
    "version": 3
   },
   "file_extension": ".py",
   "mimetype": "text/x-python",
   "name": "python",
   "nbconvert_exporter": "python",
   "pygments_lexer": "ipython3",
   "version": "3.7.13"
  }
 },
 "nbformat": 4,
 "nbformat_minor": 5
}
