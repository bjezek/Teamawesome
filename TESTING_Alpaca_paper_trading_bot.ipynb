{
 "cells": [
  {
   "cell_type": "markdown",
   "id": "15c59092-b0ba-464c-97e9-075d0cbf9d11",
   "metadata": {},
   "source": [
    "# Notebook Summary\n",
    "\n",
    "The purpose of this notebook is to make sure that you're able to connect to the Alpaca Paper trading API. \n",
    "\n",
    "This notebook issues a variety of stock & crypto buy/sell orders and checks your account details to see trade & position status"
   ]
  },
  {
   "cell_type": "markdown",
   "id": "8d04ae6b-6f9a-4642-a329-c587454df5a5",
   "metadata": {},
   "source": [
    "# Save Alpaca Credentials in Your .env File\n",
    "\n",
    "Make sure you have a .env file set up with your Alpaca API keys. The notebook is looking for your Alpaca API keys in this format: \n",
    "\n",
    "API_KEY = \"xxx\"\n",
    "\n",
    "API_SECRET = \"xxx\""
   ]
  },
  {
   "cell_type": "markdown",
   "id": "8d167ede-6af2-4e6e-804a-360e3a6aebc1",
   "metadata": {},
   "source": [
    "# Paper Trading Account Demos\n",
    "\n",
    "This notebook connects to your PAPER trading account with this url: \n",
    "\n",
    "https://paper-api.alpaca.markets\n",
    "\n",
    "If you wish to test these functions with your LIVE account, change the url and update your API keys if needed. \n",
    "\n",
    "(These functions are taken mainly from the Alpaca Documentation with links below)"
   ]
  },
  {
   "cell_type": "code",
   "execution_count": 3,
   "id": "bf446c51-914c-473c-9105-ef2c436fd822",
   "metadata": {},
   "outputs": [],
   "source": [
    "import pandas as pd\n",
    "from twarc import Twarc2, expansions\n",
    "import json\n",
    "from dotenv import load_dotenv\n",
    "import alpaca_trade_api as tradeapi\n",
    "from alpaca_trade_api.rest import TimeFrame, TimeFrameUnit\n",
    "import os\n",
    "import datetime\n",
    "import tweepy\n",
    "import requests\n",
    "\n",
    "#Twitter API Github Examples Found Here:\n",
    "## https://github.com/twitterdev/getting-started-with-the-twitter-api-v2-for-academic-research/blob/main/modules/6a-labs-code-academic-python.md"
   ]
  },
  {
   "cell_type": "code",
   "execution_count": 4,
   "id": "db8051eb-e623-4f0c-97bb-4d1cc2cd8422",
   "metadata": {},
   "outputs": [
    {
     "data": {
      "text/plain": [
       "True"
      ]
     },
     "execution_count": 4,
     "metadata": {},
     "output_type": "execute_result"
    }
   ],
   "source": [
    "# Load the environment variables from the .env file\n",
    "load_dotenv()\n"
   ]
  },
  {
   "cell_type": "markdown",
   "id": "84d3b049-8212-4b9f-8df0-d4af2653c3d0",
   "metadata": {},
   "source": [
    "# Create a Connection to the (Paper) Trading API"
   ]
  },
  {
   "cell_type": "code",
   "execution_count": 150,
   "id": "ed55902b-38f4-4571-8f67-0b26da8e9648",
   "metadata": {},
   "outputs": [],
   "source": [
    "API_KEY = os.getenv(\"ALPACA_API_KEY\")\n",
    "API_SECRET = os.getenv(\"ALPACA_SECRET_KEY\")\n",
    "ALPACA_API_BASE_URL = \"https://paper-api.alpaca.markets\" #notice \"PAPER\" in the URL"
   ]
  },
  {
   "cell_type": "code",
   "execution_count": 151,
   "id": "e7eb8211-0a32-4c6e-b7ff-ee91465727b5",
   "metadata": {},
   "outputs": [],
   "source": [
    "# Create a connection to the API \n",
    "api = tradeapi.REST(API_KEY, API_SECRET, ALPACA_API_BASE_URL, api_version=\"v2\")"
   ]
  },
  {
   "cell_type": "markdown",
   "id": "b14cc08f-9696-422d-abc4-05b7568dd762",
   "metadata": {},
   "source": [
    "# Test TSLA stock buy / sell orders & historical data collection"
   ]
  },
  {
   "cell_type": "code",
   "execution_count": 152,
   "id": "e99bb9a6-bdd0-482b-b9b8-3d728ee35acc",
   "metadata": {},
   "outputs": [
    {
     "data": {
      "text/html": [
       "<div>\n",
       "<style scoped>\n",
       "    .dataframe tbody tr th:only-of-type {\n",
       "        vertical-align: middle;\n",
       "    }\n",
       "\n",
       "    .dataframe tbody tr th {\n",
       "        vertical-align: top;\n",
       "    }\n",
       "\n",
       "    .dataframe thead th {\n",
       "        text-align: right;\n",
       "    }\n",
       "</style>\n",
       "<table border=\"1\" class=\"dataframe\">\n",
       "  <thead>\n",
       "    <tr style=\"text-align: right;\">\n",
       "      <th></th>\n",
       "      <th>open</th>\n",
       "      <th>high</th>\n",
       "      <th>low</th>\n",
       "      <th>close</th>\n",
       "      <th>volume</th>\n",
       "      <th>trade_count</th>\n",
       "      <th>vwap</th>\n",
       "    </tr>\n",
       "    <tr>\n",
       "      <th>timestamp</th>\n",
       "      <th></th>\n",
       "      <th></th>\n",
       "      <th></th>\n",
       "      <th></th>\n",
       "      <th></th>\n",
       "      <th></th>\n",
       "      <th></th>\n",
       "    </tr>\n",
       "  </thead>\n",
       "  <tbody>\n",
       "    <tr>\n",
       "      <th>2022-09-01 06:00:00+00:00</th>\n",
       "      <td>271.14</td>\n",
       "      <td>271.1400</td>\n",
       "      <td>271.1400</td>\n",
       "      <td>271.14</td>\n",
       "      <td>129</td>\n",
       "      <td>1</td>\n",
       "      <td>271.140000</td>\n",
       "    </tr>\n",
       "    <tr>\n",
       "      <th>2022-09-01 08:00:00+00:00</th>\n",
       "      <td>272.66</td>\n",
       "      <td>272.6600</td>\n",
       "      <td>268.9200</td>\n",
       "      <td>269.60</td>\n",
       "      <td>197093</td>\n",
       "      <td>6826</td>\n",
       "      <td>270.175173</td>\n",
       "    </tr>\n",
       "    <tr>\n",
       "      <th>2022-09-01 09:00:00+00:00</th>\n",
       "      <td>269.59</td>\n",
       "      <td>270.9788</td>\n",
       "      <td>269.1100</td>\n",
       "      <td>270.45</td>\n",
       "      <td>55033</td>\n",
       "      <td>2331</td>\n",
       "      <td>269.991851</td>\n",
       "    </tr>\n",
       "    <tr>\n",
       "      <th>2022-09-01 10:00:00+00:00</th>\n",
       "      <td>270.50</td>\n",
       "      <td>271.2300</td>\n",
       "      <td>270.1112</td>\n",
       "      <td>271.23</td>\n",
       "      <td>26419</td>\n",
       "      <td>971</td>\n",
       "      <td>270.651416</td>\n",
       "    </tr>\n",
       "    <tr>\n",
       "      <th>2022-09-01 11:00:00+00:00</th>\n",
       "      <td>271.25</td>\n",
       "      <td>273.9043</td>\n",
       "      <td>270.1200</td>\n",
       "      <td>273.00</td>\n",
       "      <td>280063</td>\n",
       "      <td>7015</td>\n",
       "      <td>272.263522</td>\n",
       "    </tr>\n",
       "  </tbody>\n",
       "</table>\n",
       "</div>"
      ],
      "text/plain": [
       "                             open      high       low   close  volume  \\\n",
       "timestamp                                                               \n",
       "2022-09-01 06:00:00+00:00  271.14  271.1400  271.1400  271.14     129   \n",
       "2022-09-01 08:00:00+00:00  272.66  272.6600  268.9200  269.60  197093   \n",
       "2022-09-01 09:00:00+00:00  269.59  270.9788  269.1100  270.45   55033   \n",
       "2022-09-01 10:00:00+00:00  270.50  271.2300  270.1112  271.23   26419   \n",
       "2022-09-01 11:00:00+00:00  271.25  273.9043  270.1200  273.00  280063   \n",
       "\n",
       "                           trade_count        vwap  \n",
       "timestamp                                           \n",
       "2022-09-01 06:00:00+00:00            1  271.140000  \n",
       "2022-09-01 08:00:00+00:00         6826  270.175173  \n",
       "2022-09-01 09:00:00+00:00         2331  269.991851  \n",
       "2022-09-01 10:00:00+00:00          971  270.651416  \n",
       "2022-09-01 11:00:00+00:00         7015  272.263522  "
      ]
     },
     "execution_count": 152,
     "metadata": {},
     "output_type": "execute_result"
    }
   ],
   "source": [
    "#grab historical data for TSLA stock\n",
    "\n",
    "#https://github.com/alpacahq/alpaca-trade-api-python\n",
    "test = api.get_bars(\"TSLA\", TimeFrame.Hour, \"2022-09-01\", \"2022-09-20\", adjustment='raw').df\n",
    "test.head()"
   ]
  },
  {
   "cell_type": "markdown",
   "id": "031638f2-422a-4931-b24c-c60e16e42016",
   "metadata": {},
   "source": [
    "# Grab yesterday's closing price from Alpaca API"
   ]
  },
  {
   "cell_type": "markdown",
   "id": "55cf6da2-19ea-4393-b7bc-7ea27f98e0d3",
   "metadata": {},
   "source": [
    "# Test Bitcoin buy / sell orders & historical data collection"
   ]
  },
  {
   "cell_type": "code",
   "execution_count": 153,
   "id": "506cdb83-e2ec-44bb-a765-7c369fdb03df",
   "metadata": {},
   "outputs": [
    {
     "data": {
      "text/html": [
       "<div>\n",
       "<style scoped>\n",
       "    .dataframe tbody tr th:only-of-type {\n",
       "        vertical-align: middle;\n",
       "    }\n",
       "\n",
       "    .dataframe tbody tr th {\n",
       "        vertical-align: top;\n",
       "    }\n",
       "\n",
       "    .dataframe thead th {\n",
       "        text-align: right;\n",
       "    }\n",
       "</style>\n",
       "<table border=\"1\" class=\"dataframe\">\n",
       "  <thead>\n",
       "    <tr style=\"text-align: right;\">\n",
       "      <th></th>\n",
       "      <th>exchange</th>\n",
       "      <th>open</th>\n",
       "      <th>high</th>\n",
       "      <th>low</th>\n",
       "      <th>close</th>\n",
       "      <th>volume</th>\n",
       "      <th>trade_count</th>\n",
       "      <th>vwap</th>\n",
       "    </tr>\n",
       "    <tr>\n",
       "      <th>timestamp</th>\n",
       "      <th></th>\n",
       "      <th></th>\n",
       "      <th></th>\n",
       "      <th></th>\n",
       "      <th></th>\n",
       "      <th></th>\n",
       "      <th></th>\n",
       "      <th></th>\n",
       "    </tr>\n",
       "  </thead>\n",
       "  <tbody>\n",
       "    <tr>\n",
       "      <th>2022-09-22 05:00:00+00:00</th>\n",
       "      <td>CBSE</td>\n",
       "      <td>18705.69</td>\n",
       "      <td>18729.46</td>\n",
       "      <td>18616.48</td>\n",
       "      <td>18668.24</td>\n",
       "      <td>1159.751926</td>\n",
       "      <td>21243</td>\n",
       "      <td>18681.840712</td>\n",
       "    </tr>\n",
       "    <tr>\n",
       "      <th>2022-09-22 05:00:00+00:00</th>\n",
       "      <td>ERSX</td>\n",
       "      <td>18696.30</td>\n",
       "      <td>18728.00</td>\n",
       "      <td>18629.50</td>\n",
       "      <td>18673.90</td>\n",
       "      <td>7.189100</td>\n",
       "      <td>24</td>\n",
       "      <td>18659.568791</td>\n",
       "    </tr>\n",
       "    <tr>\n",
       "      <th>2022-09-22 05:00:00+00:00</th>\n",
       "      <td>FTXU</td>\n",
       "      <td>18698.00</td>\n",
       "      <td>18724.00</td>\n",
       "      <td>18629.00</td>\n",
       "      <td>18670.00</td>\n",
       "      <td>32.326200</td>\n",
       "      <td>194</td>\n",
       "      <td>18677.209821</td>\n",
       "    </tr>\n",
       "    <tr>\n",
       "      <th>2022-09-22 06:00:00+00:00</th>\n",
       "      <td>CBSE</td>\n",
       "      <td>18669.33</td>\n",
       "      <td>18876.24</td>\n",
       "      <td>18661.64</td>\n",
       "      <td>18768.71</td>\n",
       "      <td>1745.042018</td>\n",
       "      <td>29214</td>\n",
       "      <td>18763.377467</td>\n",
       "    </tr>\n",
       "    <tr>\n",
       "      <th>2022-09-22 06:00:00+00:00</th>\n",
       "      <td>ERSX</td>\n",
       "      <td>18726.70</td>\n",
       "      <td>18876.90</td>\n",
       "      <td>18701.70</td>\n",
       "      <td>18774.60</td>\n",
       "      <td>28.578325</td>\n",
       "      <td>106</td>\n",
       "      <td>18757.105780</td>\n",
       "    </tr>\n",
       "  </tbody>\n",
       "</table>\n",
       "</div>"
      ],
      "text/plain": [
       "                          exchange      open      high       low     close  \\\n",
       "timestamp                                                                    \n",
       "2022-09-22 05:00:00+00:00     CBSE  18705.69  18729.46  18616.48  18668.24   \n",
       "2022-09-22 05:00:00+00:00     ERSX  18696.30  18728.00  18629.50  18673.90   \n",
       "2022-09-22 05:00:00+00:00     FTXU  18698.00  18724.00  18629.00  18670.00   \n",
       "2022-09-22 06:00:00+00:00     CBSE  18669.33  18876.24  18661.64  18768.71   \n",
       "2022-09-22 06:00:00+00:00     ERSX  18726.70  18876.90  18701.70  18774.60   \n",
       "\n",
       "                                volume  trade_count          vwap  \n",
       "timestamp                                                          \n",
       "2022-09-22 05:00:00+00:00  1159.751926        21243  18681.840712  \n",
       "2022-09-22 05:00:00+00:00     7.189100           24  18659.568791  \n",
       "2022-09-22 05:00:00+00:00    32.326200          194  18677.209821  \n",
       "2022-09-22 06:00:00+00:00  1745.042018        29214  18763.377467  \n",
       "2022-09-22 06:00:00+00:00    28.578325          106  18757.105780  "
      ]
     },
     "execution_count": 153,
     "metadata": {},
     "output_type": "execute_result"
    }
   ],
   "source": [
    "#Bitcoin historical data collection\n",
    "\n",
    "#https://alpaca.markets/learn/code-cryptocurrency-live-trading-bot-python-alpaca/\n",
    "btc_data = api.get_crypto_bars(\"BTCUSD\", TimeFrame.Hour).df\n",
    "btc_data.head()\n",
    "#exhanges are CBSE, ERSX, FTXU"
   ]
  },
  {
   "cell_type": "code",
   "execution_count": 177,
   "id": "719fb976-365b-4192-8e52-be61634bf49f",
   "metadata": {},
   "outputs": [],
   "source": [
    "#Test buy order submission\n",
    "\n",
    "#https://alpaca.markets/learn/code-cryptocurrency-live-trading-bot-python-alpaca/\n",
    "#market order to buy 1 bitcoin\n",
    "api.submit_order('BTCUSD', qty=1, side='buy', time_in_force=\"gtc\")"
   ]
  },
  {
   "cell_type": "code",
   "execution_count": 178,
   "id": "153a628f-a163-4229-9c52-872eb6facb34",
   "metadata": {},
   "outputs": [],
   "source": [
    "# Get account position\n",
    "\n",
    "#https://alpaca.markets/learn/code-cryptocurrency-live-trading-bot-python-alpaca/\n",
    "# Get current position on Bitcoin. Yields error if we don't hold any\n",
    "api.get_position('BTCUSD')"
   ]
  },
  {
   "cell_type": "code",
   "execution_count": 179,
   "id": "a1b96019-8621-473c-b2a7-3bae35674e58",
   "metadata": {},
   "outputs": [],
   "source": [
    "#Test sell order submission\n",
    "#NOTE: when I issued a buy order for 1 bitcoin, the quantity that I actually bought (shown in positions above) was actually listed as 0.9975. I don't know why this is (!)\n",
    "\n",
    "#https://alpaca.markets/learn/code-cryptocurrency-live-trading-bot-python-alpaca/\n",
    "#market order to buy 1 bitcoin\n",
    "api.submit_order('BTCUSD', qty=.9975, side='sell', time_in_force=\"gtc\") #quantity wasn't 1?"
   ]
  },
  {
   "cell_type": "code",
   "execution_count": 180,
   "id": "2f6fe6f1-f375-4e65-9d25-c4a18081d77a",
   "metadata": {},
   "outputs": [],
   "source": [
    "#Get position\n",
    "#Will error out if your position is zero\n",
    "\n",
    "#https://alpaca.markets/learn/code-cryptocurrency-live-trading-bot-python-alpaca/\n",
    "# Get current position on Bitcoin. Yields error if we don't hold any\n",
    "api.get_position('BTCUSD')"
   ]
  },
  {
   "cell_type": "markdown",
   "id": "cd5c76f3-543e-448e-b7c4-d41b146f322e",
   "metadata": {},
   "source": [
    "# Test Dogecoin buy / sell orders & historical data collection"
   ]
  },
  {
   "cell_type": "code",
   "execution_count": 162,
   "id": "9c00d41a-530a-4afe-a900-af5522be82c9",
   "metadata": {},
   "outputs": [
    {
     "data": {
      "text/html": [
       "<div>\n",
       "<style scoped>\n",
       "    .dataframe tbody tr th:only-of-type {\n",
       "        vertical-align: middle;\n",
       "    }\n",
       "\n",
       "    .dataframe tbody tr th {\n",
       "        vertical-align: top;\n",
       "    }\n",
       "\n",
       "    .dataframe thead th {\n",
       "        text-align: right;\n",
       "    }\n",
       "</style>\n",
       "<table border=\"1\" class=\"dataframe\">\n",
       "  <thead>\n",
       "    <tr style=\"text-align: right;\">\n",
       "      <th></th>\n",
       "      <th>exchange</th>\n",
       "      <th>open</th>\n",
       "      <th>high</th>\n",
       "      <th>low</th>\n",
       "      <th>close</th>\n",
       "      <th>volume</th>\n",
       "      <th>trade_count</th>\n",
       "      <th>vwap</th>\n",
       "    </tr>\n",
       "    <tr>\n",
       "      <th>timestamp</th>\n",
       "      <th></th>\n",
       "      <th></th>\n",
       "      <th></th>\n",
       "      <th></th>\n",
       "      <th></th>\n",
       "      <th></th>\n",
       "      <th></th>\n",
       "      <th></th>\n",
       "    </tr>\n",
       "  </thead>\n",
       "  <tbody>\n",
       "    <tr>\n",
       "      <th>2022-09-22 05:00:00+00:00</th>\n",
       "      <td>FTXU</td>\n",
       "      <td>0.057580</td>\n",
       "      <td>0.057682</td>\n",
       "      <td>0.057485</td>\n",
       "      <td>0.057682</td>\n",
       "      <td>45316</td>\n",
       "      <td>10</td>\n",
       "      <td>0.057493</td>\n",
       "    </tr>\n",
       "    <tr>\n",
       "      <th>2022-09-22 06:00:00+00:00</th>\n",
       "      <td>FTXU</td>\n",
       "      <td>0.057818</td>\n",
       "      <td>0.058000</td>\n",
       "      <td>0.057661</td>\n",
       "      <td>0.057899</td>\n",
       "      <td>45035</td>\n",
       "      <td>19</td>\n",
       "      <td>0.057862</td>\n",
       "    </tr>\n",
       "    <tr>\n",
       "      <th>2022-09-22 07:00:00+00:00</th>\n",
       "      <td>FTXU</td>\n",
       "      <td>0.057846</td>\n",
       "      <td>0.058549</td>\n",
       "      <td>0.057846</td>\n",
       "      <td>0.058515</td>\n",
       "      <td>502453</td>\n",
       "      <td>57</td>\n",
       "      <td>0.058443</td>\n",
       "    </tr>\n",
       "    <tr>\n",
       "      <th>2022-09-22 08:00:00+00:00</th>\n",
       "      <td>FTXU</td>\n",
       "      <td>0.058503</td>\n",
       "      <td>0.058984</td>\n",
       "      <td>0.058503</td>\n",
       "      <td>0.058766</td>\n",
       "      <td>692499</td>\n",
       "      <td>73</td>\n",
       "      <td>0.058609</td>\n",
       "    </tr>\n",
       "    <tr>\n",
       "      <th>2022-09-22 09:00:00+00:00</th>\n",
       "      <td>FTXU</td>\n",
       "      <td>0.058832</td>\n",
       "      <td>0.059057</td>\n",
       "      <td>0.058618</td>\n",
       "      <td>0.058825</td>\n",
       "      <td>232435</td>\n",
       "      <td>35</td>\n",
       "      <td>0.058852</td>\n",
       "    </tr>\n",
       "  </tbody>\n",
       "</table>\n",
       "</div>"
      ],
      "text/plain": [
       "                          exchange      open      high       low     close  \\\n",
       "timestamp                                                                    \n",
       "2022-09-22 05:00:00+00:00     FTXU  0.057580  0.057682  0.057485  0.057682   \n",
       "2022-09-22 06:00:00+00:00     FTXU  0.057818  0.058000  0.057661  0.057899   \n",
       "2022-09-22 07:00:00+00:00     FTXU  0.057846  0.058549  0.057846  0.058515   \n",
       "2022-09-22 08:00:00+00:00     FTXU  0.058503  0.058984  0.058503  0.058766   \n",
       "2022-09-22 09:00:00+00:00     FTXU  0.058832  0.059057  0.058618  0.058825   \n",
       "\n",
       "                           volume  trade_count      vwap  \n",
       "timestamp                                                 \n",
       "2022-09-22 05:00:00+00:00   45316           10  0.057493  \n",
       "2022-09-22 06:00:00+00:00   45035           19  0.057862  \n",
       "2022-09-22 07:00:00+00:00  502453           57  0.058443  \n",
       "2022-09-22 08:00:00+00:00  692499           73  0.058609  \n",
       "2022-09-22 09:00:00+00:00  232435           35  0.058852  "
      ]
     },
     "execution_count": 162,
     "metadata": {},
     "output_type": "execute_result"
    }
   ],
   "source": [
    "#Dogecoin historical data collection\n",
    "\n",
    "#https://alpaca.markets/learn/code-cryptocurrency-live-trading-bot-python-alpaca/\n",
    "doge_data = api.get_crypto_bars(\"DOGEUSD\", TimeFrame.Hour).df\n",
    "doge_data.head()\n",
    "#exhanges are CBSE, ERSX, FTXU"
   ]
  },
  {
   "cell_type": "code",
   "execution_count": 181,
   "id": "b09a0686-3f80-4a44-9bfd-e1040619e96f",
   "metadata": {},
   "outputs": [],
   "source": [
    "# Issue market order to buy 1 dogecoin\n",
    "\n",
    "#https://alpaca.markets/learn/code-cryptocurrency-live-trading-bot-python-alpaca/\n",
    "#market order to buy 1 dogecoin\n",
    "api.submit_order('DOGEUSD', qty=1, side='buy', time_in_force=\"gtc\")"
   ]
  },
  {
   "cell_type": "code",
   "execution_count": 182,
   "id": "d3187ec5-cd06-4b80-8c93-52be1488a8c1",
   "metadata": {},
   "outputs": [],
   "source": [
    "#Get dogecoin position\n",
    "\n",
    "#https://alpaca.markets/learn/code-cryptocurrency-live-trading-bot-python-alpaca/\n",
    "# Get current position on Bitcoin. Yields error if we don't hold any\n",
    "api.get_position('DOGEUSD')"
   ]
  },
  {
   "cell_type": "code",
   "execution_count": 183,
   "id": "4f15e9a5-5030-4e28-abeb-b322949756ed",
   "metadata": {},
   "outputs": [],
   "source": [
    "# Sell your dogecoin\n",
    "# NOTE: make sure 'qty' in the statement above matches how much you need to sell!\n",
    "# NOTE: for some reason, you can't sell less than 1 dogecoin\n",
    "\n",
    "#https://alpaca.markets/learn/code-cryptocurrency-live-trading-bot-python-alpaca/\n",
    "#market order to buy 1 bitcoin\n",
    "api.submit_order('DOGEUSD', qty=1, side='sell', time_in_force=\"gtc\") #quantity has to be >= 1??"
   ]
  },
  {
   "cell_type": "code",
   "execution_count": 184,
   "id": "6c0b4524-9133-43a4-9b58-0688937e3b6e",
   "metadata": {},
   "outputs": [],
   "source": [
    "#Get dogecoin position\n",
    "\n",
    "#https://alpaca.markets/learn/code-cryptocurrency-live-trading-bot-python-alpaca/\n",
    "# Get current position on Bitcoin. Yields error if we don't hold any\n",
    "api.get_position('DOGEUSD')"
   ]
  },
  {
   "cell_type": "code",
   "execution_count": 167,
   "id": "82eef3d9-0543-4652-9b29-b504275931bc",
   "metadata": {},
   "outputs": [],
   "source": [
    "# For me, I have fractional dogecoins left over from transactions (which is really weird)"
   ]
  },
  {
   "cell_type": "markdown",
   "id": "72591d83-03b5-43cc-afc2-df0fdb679361",
   "metadata": {},
   "source": [
    "# Get historical data and buy/sell Tesla stock"
   ]
  },
  {
   "cell_type": "code",
   "execution_count": 168,
   "id": "a9cb8f27-2dc5-4a7c-a1ff-fc24dbbab3a4",
   "metadata": {},
   "outputs": [
    {
     "data": {
      "text/html": [
       "<div>\n",
       "<style scoped>\n",
       "    .dataframe tbody tr th:only-of-type {\n",
       "        vertical-align: middle;\n",
       "    }\n",
       "\n",
       "    .dataframe tbody tr th {\n",
       "        vertical-align: top;\n",
       "    }\n",
       "\n",
       "    .dataframe thead th {\n",
       "        text-align: right;\n",
       "    }\n",
       "</style>\n",
       "<table border=\"1\" class=\"dataframe\">\n",
       "  <thead>\n",
       "    <tr style=\"text-align: right;\">\n",
       "      <th></th>\n",
       "      <th>open</th>\n",
       "      <th>high</th>\n",
       "      <th>low</th>\n",
       "      <th>close</th>\n",
       "      <th>volume</th>\n",
       "      <th>trade_count</th>\n",
       "      <th>vwap</th>\n",
       "    </tr>\n",
       "    <tr>\n",
       "      <th>timestamp</th>\n",
       "      <th></th>\n",
       "      <th></th>\n",
       "      <th></th>\n",
       "      <th></th>\n",
       "      <th></th>\n",
       "      <th></th>\n",
       "      <th></th>\n",
       "    </tr>\n",
       "  </thead>\n",
       "  <tbody>\n",
       "    <tr>\n",
       "      <th>2022-09-20 04:00:00+00:00</th>\n",
       "      <td>307.00</td>\n",
       "      <td>313.33</td>\n",
       "      <td>305.58</td>\n",
       "      <td>308.73</td>\n",
       "      <td>61689176</td>\n",
       "      <td>819819</td>\n",
       "      <td>309.304290</td>\n",
       "    </tr>\n",
       "    <tr>\n",
       "      <th>2022-09-21 04:00:00+00:00</th>\n",
       "      <td>308.29</td>\n",
       "      <td>313.80</td>\n",
       "      <td>300.63</td>\n",
       "      <td>300.80</td>\n",
       "      <td>62552372</td>\n",
       "      <td>836954</td>\n",
       "      <td>307.540263</td>\n",
       "    </tr>\n",
       "  </tbody>\n",
       "</table>\n",
       "</div>"
      ],
      "text/plain": [
       "                             open    high     low   close    volume  \\\n",
       "timestamp                                                             \n",
       "2022-09-20 04:00:00+00:00  307.00  313.33  305.58  308.73  61689176   \n",
       "2022-09-21 04:00:00+00:00  308.29  313.80  300.63  300.80  62552372   \n",
       "\n",
       "                           trade_count        vwap  \n",
       "timestamp                                           \n",
       "2022-09-20 04:00:00+00:00       819819  309.304290  \n",
       "2022-09-21 04:00:00+00:00       836954  307.540263  "
      ]
     },
     "execution_count": 168,
     "metadata": {},
     "output_type": "execute_result"
    }
   ],
   "source": [
    "tsla_price = api.get_bars(\"TSLA\", TimeFrame.Day, \"2022-09-20\", \"2022-09-21\", adjustment='raw').df \n",
    "#my \"subscription\" can't query data from the past 15 minutes\n",
    "#need to figure out how to add time in the datestamp to get the hour\n",
    "tsla_price"
   ]
  },
  {
   "cell_type": "code",
   "execution_count": 185,
   "id": "75f0295c-aeec-4f48-8cdd-1954ad6061fc",
   "metadata": {},
   "outputs": [],
   "source": [
    "#buy TSLA stock\n",
    "\n",
    "#https://alpaca.markets/deprecated/docs/api-documentation/how-to/orders/\n",
    "# Submit buy order (works for me)\n",
    "\n",
    "api.submit_order(\n",
    "    symbol=\"TSLA\", \n",
    "    qty=1, \n",
    "    side=\"buy\", \n",
    "    time_in_force=\"gtc\", #?\n",
    "    type=\"limit\",  #or \"market\"\n",
    "    limit_price=500 #update limit price. Picked 500 so the order will go through. \n",
    ")\n"
   ]
  },
  {
   "cell_type": "code",
   "execution_count": 186,
   "id": "c293b8ac-5e76-458f-bdb7-51ad2d99dd0d",
   "metadata": {},
   "outputs": [],
   "source": [
    "# sell TSLA stock\n",
    "\n",
    "# Submit sell order (works for me)\n",
    "\n",
    "api.submit_order(\n",
    "    symbol=\"TSLA\", \n",
    "    qty=1, \n",
    "    side=\"sell\", \n",
    "    time_in_force=\"gtc\", #?\n",
    "    type=\"limit\",  #or \"market\"\n",
    "    limit_price=200 #set low price so order could go through. Update limit price. \n",
    ")"
   ]
  },
  {
   "cell_type": "markdown",
   "id": "5f5d24d8-c5a9-421d-b110-bb6b6ed0814d",
   "metadata": {},
   "source": [
    "# Other Useful Functions\n",
    "\n",
    "Get account information\n",
    "\n",
    "Get closed orders\n",
    "\n",
    "Get open orders\n",
    "\n",
    "Cancel open orders\n",
    "\n",
    "Get account change relative to yesterday"
   ]
  },
  {
   "cell_type": "code",
   "execution_count": 174,
   "id": "dbcdeef6-7920-479d-9f08-6af4a7f7c97e",
   "metadata": {},
   "outputs": [],
   "source": [
    "#These statements print your account details. \n",
    "\n",
    "account = api.get_account()\n",
    "account "
   ]
  },
  {
   "cell_type": "code",
   "execution_count": 176,
   "id": "09e78452-b89f-4664-88a9-028b62412fdb",
   "metadata": {},
   "outputs": [],
   "source": [
    "# print closed orders\n",
    "\n",
    "closed_orders = api.list_orders(\n",
    "    status='closed',\n",
    "    limit=100,\n",
    "    nested=True  # show nested multi-leg orders\n",
    ")\n",
    "\n",
    "closed_orders = [o for o in closed_orders if o.symbol == 'TSLA']\n",
    "print(closed_orders)"
   ]
  },
  {
   "cell_type": "code",
   "execution_count": null,
   "id": "31148f49-7024-4e22-a236-46940b226ea7",
   "metadata": {
    "tags": []
   },
   "outputs": [],
   "source": [
    "# list all of your open orders: \n",
    "\n",
    "#https://forum.alpaca.markets/t/cancel-all-the-open-orders-using-python-api/2890/2\n",
    "\n",
    "open_orders_list = api.list_orders(status='open')\n",
    "open_orders_list"
   ]
  },
  {
   "cell_type": "code",
   "execution_count": null,
   "id": "32931853-4210-446f-afe6-a97fc1f839f0",
   "metadata": {},
   "outputs": [],
   "source": [
    "# cancel all of your open orders:\n",
    "\n",
    "#https://forum.alpaca.markets/t/cancel-all-the-open-orders-using-python-api/2890/2\n",
    "\n",
    "api.cancel_all_orders()"
   ]
  },
  {
   "cell_type": "code",
   "execution_count": null,
   "id": "588aa3f2-d544-417b-af3d-2dd7345d323f",
   "metadata": {},
   "outputs": [],
   "source": [
    "# list how much you gained / lost today relative to yesterday: \n",
    "\n",
    "#https://alpaca.markets/deprecated/docs/api-documentation/how-to/account/\n",
    "#Print your daily profit / loss\n",
    "\n",
    "balance_change = float(account.equity) - float(account.last_equity)\n",
    "balance_change"
   ]
  },
  {
   "cell_type": "code",
   "execution_count": null,
   "id": "9d734b7a-e28f-483d-a01a-11f257f8c4a1",
   "metadata": {},
   "outputs": [],
   "source": []
  }
 ],
 "metadata": {
  "kernelspec": {
   "display_name": "Python 3 (ipykernel)",
   "language": "python",
   "name": "python3"
  },
  "language_info": {
   "codemirror_mode": {
    "name": "ipython",
    "version": 3
   },
   "file_extension": ".py",
   "mimetype": "text/x-python",
   "name": "python",
   "nbconvert_exporter": "python",
   "pygments_lexer": "ipython3",
   "version": "3.7.13"
  }
 },
 "nbformat": 4,
 "nbformat_minor": 5
}
