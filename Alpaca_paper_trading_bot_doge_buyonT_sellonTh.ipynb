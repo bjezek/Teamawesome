{
 "cells": [
  {
   "cell_type": "markdown",
   "id": "15c59092-b0ba-464c-97e9-075d0cbf9d11",
   "metadata": {},
   "source": [
    "# Notebook Summary\n",
    "\n",
    "The purpose of this notebook is to implement a trading strategy where you're buying/selling dogecoin based on the day of the week. \n",
    "\n",
    "Analysis of historical dogecoin data with fbprophet indicates that a viable strategy could be to purchase dogecoin on Tuesday and sell it on Thursday. "
   ]
  },
  {
   "cell_type": "markdown",
   "id": "8d04ae6b-6f9a-4642-a329-c587454df5a5",
   "metadata": {},
   "source": [
    "# Save Alpaca Credentials in Your .env File\n",
    "\n",
    "Make sure you have a .env file set up with your Alpaca API keys. The notebook is looking for your Alpaca API keys in this format: \n",
    "\n",
    "API_KEY = \"xxx\"\n",
    "\n",
    "API_SECRET = \"xxx\""
   ]
  },
  {
   "cell_type": "markdown",
   "id": "8d167ede-6af2-4e6e-804a-360e3a6aebc1",
   "metadata": {},
   "source": [
    "# Paper Trading Account Demos\n",
    "\n",
    "This notebook connects to your PAPER trading account with this url: \n",
    "\n",
    "https://paper-api.alpaca.markets\n",
    "\n",
    "If you wish to test these functions with your LIVE account, change the url and update your API keys if needed. \n",
    "\n",
    "(These functions are taken mainly from the Alpaca Documentation with links below)"
   ]
  },
  {
   "cell_type": "code",
   "execution_count": 191,
   "id": "bf446c51-914c-473c-9105-ef2c436fd822",
   "metadata": {},
   "outputs": [],
   "source": [
    "import pandas as pd\n",
    "from twarc import Twarc2, expansions\n",
    "import json\n",
    "from dotenv import load_dotenv\n",
    "import alpaca_trade_api as tradeapi\n",
    "from alpaca_trade_api.rest import TimeFrame, TimeFrameUnit\n",
    "import os\n",
    "import datetime\n",
    "import tweepy\n",
    "import requests\n",
    "from datetime import datetime, timedelta\n"
   ]
  },
  {
   "cell_type": "code",
   "execution_count": 188,
   "id": "db8051eb-e623-4f0c-97bb-4d1cc2cd8422",
   "metadata": {},
   "outputs": [
    {
     "data": {
      "text/plain": [
       "True"
      ]
     },
     "execution_count": 188,
     "metadata": {},
     "output_type": "execute_result"
    }
   ],
   "source": [
    "# Load the environment variables from the .env file\n",
    "load_dotenv()\n"
   ]
  },
  {
   "cell_type": "markdown",
   "id": "84d3b049-8212-4b9f-8df0-d4af2653c3d0",
   "metadata": {},
   "source": [
    "# Create a Connection to the (Paper) Trading API"
   ]
  },
  {
   "cell_type": "code",
   "execution_count": 150,
   "id": "ed55902b-38f4-4571-8f67-0b26da8e9648",
   "metadata": {},
   "outputs": [],
   "source": [
    "API_KEY = os.getenv(\"ALPACA_API_KEY\")\n",
    "API_SECRET = os.getenv(\"ALPACA_SECRET_KEY\")\n",
    "ALPACA_API_BASE_URL = \"https://paper-api.alpaca.markets\" #notice \"PAPER\" in the URL"
   ]
  },
  {
   "cell_type": "code",
   "execution_count": 151,
   "id": "e7eb8211-0a32-4c6e-b7ff-ee91465727b5",
   "metadata": {},
   "outputs": [],
   "source": [
    "# Create a connection to the API \n",
    "api = tradeapi.REST(API_KEY, API_SECRET, ALPACA_API_BASE_URL, api_version=\"v2\")"
   ]
  },
  {
   "cell_type": "markdown",
   "id": "1c4cb74e-05ca-4dbc-96f4-800627f918c3",
   "metadata": {},
   "source": [
    "# Determine Action (Buy / Sell / NA)\n",
    "\n",
    "Buy Dogecoin on Tuesday, Sell Dogecoin on Thursday, Make no action in any other day of the week\n",
    "\n",
    "Assumptions: \n",
    "\n",
    "The notebook assumes that you have dogecoin in your account to sell\n",
    "\n",
    "The notebook is using increments of 1000 Dogecoins (which as of 9/22/2022 is $60 worth)"
   ]
  },
  {
   "cell_type": "code",
   "execution_count": 201,
   "id": "a0533580-220e-4571-93a8-a1263798160e",
   "metadata": {},
   "outputs": [
    {
     "name": "stdout",
     "output_type": "stream",
     "text": [
      "sell dogecoin - make sure you have dogecoin in your account to sell\n"
     ]
    }
   ],
   "source": [
    "#https://stackoverflow.com/questions/9847213/how-do-i-get-the-day-of-week-given-a-date\n",
    "#monday is 0, sunday is 6\n",
    "#buy on Tuesday (1) and sell on Thursday (3)\n",
    "\n",
    "action = \"none\"\n",
    "\n",
    "day_of_the_week = datetime.today().weekday()\n",
    "if (day_of_the_week == 1):\n",
    "    print(\"buy dogecoin\")\n",
    "    action = \"buy\"\n",
    "elif (day_of_the_week == 3):\n",
    "    print(\"sell dogecoin - make sure you have dogecoin in your account to sell\")\n",
    "    action = \"sell\"\n",
    "else:\n",
    "    print(\"take no action\")\n",
    "    action = \"none\""
   ]
  },
  {
   "cell_type": "markdown",
   "id": "cd5c76f3-543e-448e-b7c4-d41b146f322e",
   "metadata": {},
   "source": [
    "# Check Dogecoin Historical Price Data\n",
    "\n",
    "Note: this notebook assumes market orders are placed, but limit orders could be placed as well. "
   ]
  },
  {
   "cell_type": "code",
   "execution_count": 204,
   "id": "9c00d41a-530a-4afe-a900-af5522be82c9",
   "metadata": {},
   "outputs": [
    {
     "data": {
      "text/html": [
       "<div>\n",
       "<style scoped>\n",
       "    .dataframe tbody tr th:only-of-type {\n",
       "        vertical-align: middle;\n",
       "    }\n",
       "\n",
       "    .dataframe tbody tr th {\n",
       "        vertical-align: top;\n",
       "    }\n",
       "\n",
       "    .dataframe thead th {\n",
       "        text-align: right;\n",
       "    }\n",
       "</style>\n",
       "<table border=\"1\" class=\"dataframe\">\n",
       "  <thead>\n",
       "    <tr style=\"text-align: right;\">\n",
       "      <th></th>\n",
       "      <th>exchange</th>\n",
       "      <th>open</th>\n",
       "      <th>high</th>\n",
       "      <th>low</th>\n",
       "      <th>close</th>\n",
       "      <th>volume</th>\n",
       "      <th>trade_count</th>\n",
       "      <th>vwap</th>\n",
       "    </tr>\n",
       "    <tr>\n",
       "      <th>timestamp</th>\n",
       "      <th></th>\n",
       "      <th></th>\n",
       "      <th></th>\n",
       "      <th></th>\n",
       "      <th></th>\n",
       "      <th></th>\n",
       "      <th></th>\n",
       "      <th></th>\n",
       "    </tr>\n",
       "  </thead>\n",
       "  <tbody>\n",
       "    <tr>\n",
       "      <th>2022-09-22 15:00:00+00:00</th>\n",
       "      <td>FTXU</td>\n",
       "      <td>0.058697</td>\n",
       "      <td>0.059067</td>\n",
       "      <td>0.058697</td>\n",
       "      <td>0.058911</td>\n",
       "      <td>125008</td>\n",
       "      <td>14</td>\n",
       "      <td>0.058924</td>\n",
       "    </tr>\n",
       "    <tr>\n",
       "      <th>2022-09-22 16:00:00+00:00</th>\n",
       "      <td>FTXU</td>\n",
       "      <td>0.058787</td>\n",
       "      <td>0.059252</td>\n",
       "      <td>0.058653</td>\n",
       "      <td>0.059252</td>\n",
       "      <td>14759</td>\n",
       "      <td>12</td>\n",
       "      <td>0.059129</td>\n",
       "    </tr>\n",
       "    <tr>\n",
       "      <th>2022-09-22 17:00:00+00:00</th>\n",
       "      <td>FTXU</td>\n",
       "      <td>0.059253</td>\n",
       "      <td>0.059344</td>\n",
       "      <td>0.058974</td>\n",
       "      <td>0.059159</td>\n",
       "      <td>103629</td>\n",
       "      <td>18</td>\n",
       "      <td>0.059173</td>\n",
       "    </tr>\n",
       "    <tr>\n",
       "      <th>2022-09-22 18:00:00+00:00</th>\n",
       "      <td>FTXU</td>\n",
       "      <td>0.059089</td>\n",
       "      <td>0.059188</td>\n",
       "      <td>0.058988</td>\n",
       "      <td>0.059036</td>\n",
       "      <td>1146101</td>\n",
       "      <td>48</td>\n",
       "      <td>0.059113</td>\n",
       "    </tr>\n",
       "    <tr>\n",
       "      <th>2022-09-22 19:00:00+00:00</th>\n",
       "      <td>FTXU</td>\n",
       "      <td>0.059204</td>\n",
       "      <td>0.059432</td>\n",
       "      <td>0.059101</td>\n",
       "      <td>0.059101</td>\n",
       "      <td>325774</td>\n",
       "      <td>28</td>\n",
       "      <td>0.059205</td>\n",
       "    </tr>\n",
       "  </tbody>\n",
       "</table>\n",
       "</div>"
      ],
      "text/plain": [
       "                          exchange      open      high       low     close  \\\n",
       "timestamp                                                                    \n",
       "2022-09-22 15:00:00+00:00     FTXU  0.058697  0.059067  0.058697  0.058911   \n",
       "2022-09-22 16:00:00+00:00     FTXU  0.058787  0.059252  0.058653  0.059252   \n",
       "2022-09-22 17:00:00+00:00     FTXU  0.059253  0.059344  0.058974  0.059159   \n",
       "2022-09-22 18:00:00+00:00     FTXU  0.059089  0.059188  0.058988  0.059036   \n",
       "2022-09-22 19:00:00+00:00     FTXU  0.059204  0.059432  0.059101  0.059101   \n",
       "\n",
       "                            volume  trade_count      vwap  \n",
       "timestamp                                                  \n",
       "2022-09-22 15:00:00+00:00   125008           14  0.058924  \n",
       "2022-09-22 16:00:00+00:00    14759           12  0.059129  \n",
       "2022-09-22 17:00:00+00:00   103629           18  0.059173  \n",
       "2022-09-22 18:00:00+00:00  1146101           48  0.059113  \n",
       "2022-09-22 19:00:00+00:00   325774           28  0.059205  "
      ]
     },
     "execution_count": 204,
     "metadata": {},
     "output_type": "execute_result"
    }
   ],
   "source": [
    "#Dogecoin historical data collection\n",
    "\n",
    "#https://alpaca.markets/learn/code-cryptocurrency-live-trading-bot-python-alpaca/\n",
    "doge_data = api.get_crypto_bars(\"DOGEUSD\", TimeFrame.Hour).df\n",
    "doge_data.tail()\n",
    "#exhanges are CBSE, ERSX, FTXU"
   ]
  },
  {
   "cell_type": "markdown",
   "id": "54b8bf5a-b97e-432c-90ff-30be0b677c2f",
   "metadata": {},
   "source": [
    "# Check Current Dogecoin Position\n",
    "\n",
    "Check to make sure the quantity of dogecoin you want to buy / sell matches up with your intentions. \n",
    "\n",
    "If you're selling Dogecoin, check to see if you have a fractional share of Dogecoin, rather than a whole number. \n",
    "During testing, it was noticed that buying 1 dogecoin actually resulted in the user buying a fractional coin. "
   ]
  },
  {
   "cell_type": "code",
   "execution_count": 219,
   "id": "c2b8923a-ecb0-4982-a923-6331210d0f18",
   "metadata": {},
   "outputs": [
    {
     "name": "stdout",
     "output_type": "stream",
     "text": [
      "your paper trading accout currently has 1.99 dogecoins\n"
     ]
    }
   ],
   "source": [
    "#Get dogecoin position\n",
    "#If this statement errors out, your account currently doesn't have any dogecoin in it\n",
    "\n",
    "#https://alpaca.markets/learn/code-cryptocurrency-live-trading-bot-python-alpaca/\n",
    "# Get current position on Bitcoin. Yields error if we don't hold any\n",
    "dogecoin_qty_to_sell = api.get_position('DOGEUSD').qty\n",
    "print(f\"your paper trading accout currently has {dogecoin_qty_to_sell} dogecoins\")\n",
    "if (float(dogecoin_qty_to_sell) < 1 ) & (float(dogecoin_qty_to_sell) > 0 ):\n",
    "    print(\"\\nyou have less than 1 dogecoin, you won't be able to sell this through the API because the size is too small. Increase the amount of dogecoin you have to > 1 in order to place a sell order without error.\")"
   ]
  },
  {
   "cell_type": "code",
   "execution_count": 220,
   "id": "d885db72-6640-4e27-b2ed-7e9a6ad7e8d9",
   "metadata": {},
   "outputs": [
    {
     "name": "stdout",
     "output_type": "stream",
     "text": [
      "place sell order with alpaca api\n"
     ]
    }
   ],
   "source": [
    "# Place trades with Alpaca API \n",
    "\n",
    "if action == \"buy\":\n",
    "    print(\"place buy order with alpaca api\")\n",
    "    api.submit_order('DOGEUSD', qty=1000, side='buy', time_in_force=\"gtc\")\n",
    "elif action == \"sell\":\n",
    "    print(\"place sell order with alpaca api\")\n",
    "    api.submit_order('DOGEUSD', qty=dogecoin_qty_to_sell, side='sell', time_in_force=\"gtc\")\n",
    "else:\n",
    "    print(\"take no action\")"
   ]
  },
  {
   "cell_type": "markdown",
   "id": "a422db4a-1199-40de-931a-0ff6ab49c37d",
   "metadata": {},
   "source": [
    "# Check to Make Sure That Your Order Executed Successfully\n",
    "\n",
    "You shouldn't have any open orders\n",
    "\n",
    "Your closed orders should display information about your latest trade"
   ]
  },
  {
   "cell_type": "code",
   "execution_count": 223,
   "id": "e3056b3a-28d3-48d3-8a7f-d5958f07f2d8",
   "metadata": {},
   "outputs": [
    {
     "data": {
      "text/plain": [
       "[]"
      ]
     },
     "execution_count": 223,
     "metadata": {},
     "output_type": "execute_result"
    }
   ],
   "source": [
    "# list all of your open orders: \n",
    "\n",
    "#https://forum.alpaca.markets/t/cancel-all-the-open-orders-using-python-api/2890/2\n",
    "\n",
    "open_orders_list = api.list_orders(status='open')\n",
    "open_orders_list"
   ]
  },
  {
   "cell_type": "code",
   "execution_count": 222,
   "id": "a0ee0045-ba13-47b4-8bd9-14a3ac0498a1",
   "metadata": {},
   "outputs": [],
   "source": [
    "# print closed orders\n",
    "\n",
    "closed_orders = api.list_orders(\n",
    "    status='closed',\n",
    "    limit=100,\n",
    "    nested=True  # show nested multi-leg orders\n",
    ")\n",
    "\n",
    "closed_orders = [o for o in closed_orders if o.symbol == 'TSLA']\n",
    "print(closed_orders)"
   ]
  },
  {
   "cell_type": "markdown",
   "id": "d825446f-42fa-4f89-b39c-692fa1bf2bf6",
   "metadata": {},
   "source": [
    "# Other Useful Functions"
   ]
  },
  {
   "cell_type": "code",
   "execution_count": 174,
   "id": "dbcdeef6-7920-479d-9f08-6af4a7f7c97e",
   "metadata": {},
   "outputs": [],
   "source": [
    "#Get account details\n",
    "\n",
    "account = api.get_account()\n",
    "account "
   ]
  },
  {
   "cell_type": "code",
   "execution_count": 176,
   "id": "09e78452-b89f-4664-88a9-028b62412fdb",
   "metadata": {},
   "outputs": [],
   "source": [
    "# print closed orders\n",
    "\n",
    "closed_orders = api.list_orders(\n",
    "    status='closed',\n",
    "    limit=100,\n",
    "    nested=True  # show nested multi-leg orders\n",
    ")\n",
    "\n",
    "closed_orders = [o for o in closed_orders if o.symbol == 'TSLA']\n",
    "print(closed_orders)"
   ]
  },
  {
   "cell_type": "code",
   "execution_count": null,
   "id": "31148f49-7024-4e22-a236-46940b226ea7",
   "metadata": {
    "tags": []
   },
   "outputs": [],
   "source": [
    "# list all of your open orders: \n",
    "\n",
    "#https://forum.alpaca.markets/t/cancel-all-the-open-orders-using-python-api/2890/2\n",
    "\n",
    "open_orders_list = api.list_orders(status='open')\n",
    "open_orders_list"
   ]
  },
  {
   "cell_type": "code",
   "execution_count": null,
   "id": "32931853-4210-446f-afe6-a97fc1f839f0",
   "metadata": {},
   "outputs": [],
   "source": [
    "# cancel all of your open orders:\n",
    "\n",
    "#https://forum.alpaca.markets/t/cancel-all-the-open-orders-using-python-api/2890/2\n",
    "\n",
    "api.cancel_all_orders()"
   ]
  },
  {
   "cell_type": "code",
   "execution_count": null,
   "id": "588aa3f2-d544-417b-af3d-2dd7345d323f",
   "metadata": {},
   "outputs": [],
   "source": [
    "# list how much you gained / lost today relative to yesterday: \n",
    "\n",
    "#https://alpaca.markets/deprecated/docs/api-documentation/how-to/account/\n",
    "#Print your daily profit / loss\n",
    "\n",
    "balance_change = float(account.equity) - float(account.last_equity)\n",
    "balance_change"
   ]
  }
 ],
 "metadata": {
  "kernelspec": {
   "display_name": "Python 3 (ipykernel)",
   "language": "python",
   "name": "python3"
  },
  "language_info": {
   "codemirror_mode": {
    "name": "ipython",
    "version": 3
   },
   "file_extension": ".py",
   "mimetype": "text/x-python",
   "name": "python",
   "nbconvert_exporter": "python",
   "pygments_lexer": "ipython3",
   "version": "3.7.13"
  }
 },
 "nbformat": 4,
 "nbformat_minor": 5
}
