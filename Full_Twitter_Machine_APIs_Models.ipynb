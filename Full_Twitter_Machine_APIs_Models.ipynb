{
 "cells": [
  {
   "cell_type": "markdown",
   "id": "cfa63955-013e-4126-bf15-b3ddbcd6e570",
   "metadata": {},
   "source": [
    "# Notebook Summary\n",
    "\n",
    "The purpose of this notebook is to implement a trading strategy where you're buying/selling dogecoin based on sentiment from Elon Musk's twitter feed \n"
   ]
  },
  {
   "cell_type": "markdown",
   "id": "0acf07ff-80eb-400b-8b09-aa46b979dc4d",
   "metadata": {},
   "source": [
    "# Use a .env File to Store your API Credentials and Connect To APIs\n",
    "\n",
    "##  Alpaca\n",
    "\n",
    "Make sure you have a .env file set up with your Alpaca API keys. The notebook is looking for your Alpaca API keys in this format: \n",
    "\n",
    "API_KEY = \"xxx\"\n",
    "\n",
    "API_SECRET = \"xxx\"\n",
    "\n",
    "## Twitter\n",
    "\n",
    "Link to Twitter Developer API Portal: https://developer.twitter.com/en\n",
    "\n",
    "Make sure you also store your credentials for the twitter developer api in your .env file. \n",
    "This notebook assumes that you have \"essential\" access (please note that you can request a higher access level)\n",
    "\n",
    "The additional Twitter credentials you need to store in the .env file are the following: \n",
    "\n",
    "TWITTER_API_KEY = \"XXX\"\n",
    "\n",
    "TWITTER_API_KEY = \"XXX\"\n",
    "\n",
    "TWITTER_API_SECRET_KEY = \"XXX\"\n",
    "\n",
    "TWITTER_BEARER_TOKEN = \"XXX\"\n",
    "\n",
    "TWITTER_ACCESS_TOKEN = \"XXX\"\n",
    "\n",
    "TWITTER_ACCESS_TOKEN_SECRET = \"XXX\""
   ]
  },
  {
   "cell_type": "code",
   "execution_count": 1,
   "id": "bf446c51-914c-473c-9105-ef2c436fd822",
   "metadata": {},
   "outputs": [
    {
     "name": "stderr",
     "output_type": "stream",
     "text": [
      "[nltk_data] Downloading package vader_lexicon to\n",
      "[nltk_data]     C:\\Users\\PAULA\\AppData\\Roaming\\nltk_data...\n",
      "[nltk_data]   Package vader_lexicon is already up-to-date!\n"
     ]
    },
    {
     "data": {
      "text/plain": [
       "True"
      ]
     },
     "execution_count": 1,
     "metadata": {},
     "output_type": "execute_result"
    }
   ],
   "source": [
    "import pandas as pd\n",
    "from twarc import Twarc2, expansions\n",
    "import json\n",
    "from dotenv import load_dotenv\n",
    "import os\n",
    "import alpaca_trade_api as tradeapi\n",
    "from alpaca_trade_api.rest import TimeFrame, TimeFrameUnit\n",
    "import datetime\n",
    "import tweepy\n",
    "import requests\n",
    "from dotenv import load_dotenv\n",
    "from datetime import datetime\n",
    "import pandas as pd\n",
    "import nltk\n",
    "from nltk.sentiment.vader import SentimentIntensityAnalyzer\n",
    "import nltk\n",
    "nltk.download('vader_lexicon')\n",
    "\n",
    "#Twitter API Github Examples Found Here:\n",
    "## https://github.com/twitterdev/getting-started-with-the-twitter-api-v2-for-academic-research/blob/main/modules/6a-labs-code-academic-python.md"
   ]
  },
  {
   "cell_type": "code",
   "execution_count": 2,
   "id": "db8051eb-e623-4f0c-97bb-4d1cc2cd8422",
   "metadata": {},
   "outputs": [
    {
     "data": {
      "text/plain": [
       "True"
      ]
     },
     "execution_count": 2,
     "metadata": {},
     "output_type": "execute_result"
    }
   ],
   "source": [
    "# Load the environment variables from the .env file\n",
    "load_dotenv()"
   ]
  },
  {
   "cell_type": "markdown",
   "id": "a71f0aa0-09a4-443a-b3ca-f42648caa996",
   "metadata": {},
   "source": [
    "# Connect to Alpaca Paper Trading API"
   ]
  },
  {
   "cell_type": "code",
   "execution_count": 3,
   "id": "4f83f153-0fd1-4bfb-9edd-1f59a4bb830e",
   "metadata": {},
   "outputs": [],
   "source": [
    "API_KEY = os.getenv(\"ALPACA_API_KEY\")\n",
    "API_SECRET = os.getenv(\"ALPACA_SECRET_KEY\")\n",
    "ALPACA_API_BASE_URL = \"https://paper-api.alpaca.markets\" #notice \"PAPER\" in the URL"
   ]
  },
  {
   "cell_type": "code",
   "execution_count": 4,
   "id": "0dec52aa-1964-471e-9372-360791066a5e",
   "metadata": {},
   "outputs": [],
   "source": [
    "# Create a connection to the API \n",
    "api = tradeapi.REST(API_KEY, API_SECRET, ALPACA_API_BASE_URL, api_version=\"v2\")"
   ]
  },
  {
   "cell_type": "markdown",
   "id": "dc2631e6-72ce-4e49-a7df-42885526a398",
   "metadata": {},
   "source": [
    "# Create client for Twitter API"
   ]
  },
  {
   "cell_type": "code",
   "execution_count": 5,
   "id": "32f4a6dc-9b2b-4d95-a402-810c4e1ed13f",
   "metadata": {},
   "outputs": [],
   "source": [
    "# grab twitter keys, following instructions from github: \n",
    "\n",
    "#client = Twarc2(bearer_token=os.getenv(\"TWITTER_BEARER_TOKEN\"))\n",
    "TWITTER_API_KEY = os.getenv(\"TWITTER_API_KEY\")\n",
    "TWITTER_API_SECRET_KEY = os.getenv(\"TWITTER_API_SECRET_KEY\")\n",
    "TWITTER_BEARER_TOKEN = os.getenv(\"TWITTER_BEARER_TOKEN\")\n",
    "TWITTER_ACCESS_TOKEN = os.getenv(\"TWITTER_ACCESS_TOKEN\")\n",
    "TWITTER_ACCESS_TOKEN_SECRET = os.getenv(\"TWITTER_ACCESS_TOKEN_SECRET\")"
   ]
  },
  {
   "cell_type": "code",
   "execution_count": 6,
   "id": "15c5365a-885a-42dc-9f02-c168db8cac83",
   "metadata": {},
   "outputs": [
    {
     "data": {
      "text/plain": [
       "'4.10.1'"
      ]
     },
     "execution_count": 6,
     "metadata": {},
     "output_type": "execute_result"
    }
   ],
   "source": [
    "tweepy.__version__"
   ]
  },
  {
   "cell_type": "code",
   "execution_count": 7,
   "id": "5deb8af3-4829-47b4-97a8-93647dc7a349",
   "metadata": {},
   "outputs": [],
   "source": [
    "client = tweepy.Client( bearer_token=TWITTER_BEARER_TOKEN, \n",
    "                        consumer_key=TWITTER_API_KEY, \n",
    "                        consumer_secret=TWITTER_API_SECRET_KEY, \n",
    "                        access_token=TWITTER_ACCESS_TOKEN, \n",
    "                        access_token_secret=TWITTER_ACCESS_TOKEN_SECRET, \n",
    "                        return_type = requests.Response,\n",
    "                        wait_on_rate_limit=True)"
   ]
  },
  {
   "cell_type": "markdown",
   "id": "e52734db-9f18-4437-96cb-eb198feefa31",
   "metadata": {},
   "source": [
    "# Find recent tweets from Elon Musk:\n",
    "\n",
    "Right now, API returns a max of 100 tweets over the past 7 days. API access needs to be upgraded from \"essential\" in order to go back more days. \n",
    "Other fields besides 'author_id' and 'created_at' can be returned as well.\n"
   ]
  },
  {
   "cell_type": "code",
   "execution_count": 8,
   "id": "79e10b35-0086-41c6-b8a3-4a8167b8f4cf",
   "metadata": {},
   "outputs": [],
   "source": [
    "#https://www.kirenz.com/post/2021-12-10-twitter-api-v2-tweepy-and-pandas-in-python/twitter-api-v2-tweepy-and-pandas-in-python/\n",
    "\n",
    "# Define query\n",
    "query = 'from:elonmusk'# -is:retweet'\n",
    "# get max. 100 tweets\n",
    "tweets = client.search_recent_tweets(query=query, \n",
    "                                    tweet_fields=['author_id', 'created_at'], #there are more fields we could grab\n",
    "                                     max_results=100)"
   ]
  },
  {
   "cell_type": "code",
   "execution_count": 9,
   "id": "6999056a-16b5-47a5-a2e0-a799183de572",
   "metadata": {},
   "outputs": [
    {
     "data": {
      "text/html": [
       "<div>\n",
       "<style scoped>\n",
       "    .dataframe tbody tr th:only-of-type {\n",
       "        vertical-align: middle;\n",
       "    }\n",
       "\n",
       "    .dataframe tbody tr th {\n",
       "        vertical-align: top;\n",
       "    }\n",
       "\n",
       "    .dataframe thead th {\n",
       "        text-align: right;\n",
       "    }\n",
       "</style>\n",
       "<table border=\"1\" class=\"dataframe\">\n",
       "  <thead>\n",
       "    <tr style=\"text-align: right;\">\n",
       "      <th></th>\n",
       "      <th>author_id</th>\n",
       "      <th>edit_history_tweet_ids</th>\n",
       "      <th>created_at</th>\n",
       "      <th>text</th>\n",
       "      <th>id</th>\n",
       "    </tr>\n",
       "  </thead>\n",
       "  <tbody>\n",
       "    <tr>\n",
       "      <th>0</th>\n",
       "      <td>44196397</td>\n",
       "      <td>[1575581872913907712]</td>\n",
       "      <td>2022-09-29T20:22:46.000Z</td>\n",
       "      <td>@MuskUniversity True</td>\n",
       "      <td>1575581872913907712</td>\n",
       "    </tr>\n",
       "    <tr>\n",
       "      <th>1</th>\n",
       "      <td>44196397</td>\n",
       "      <td>[1575509494510993408]</td>\n",
       "      <td>2022-09-29T15:35:09.000Z</td>\n",
       "      <td>Needs be able to get from Starbase to South Pa...</td>\n",
       "      <td>1575509494510993408</td>\n",
       "    </tr>\n",
       "    <tr>\n",
       "      <th>2</th>\n",
       "      <td>44196397</td>\n",
       "      <td>[1575508878300618752]</td>\n",
       "      <td>2022-09-29T15:32:42.000Z</td>\n",
       "      <td>@WholeMarsBlog Off-label use 🤣</td>\n",
       "      <td>1575508878300618752</td>\n",
       "    </tr>\n",
       "    <tr>\n",
       "      <th>3</th>\n",
       "      <td>44196397</td>\n",
       "      <td>[1575508498430820352]</td>\n",
       "      <td>2022-09-29T15:31:12.000Z</td>\n",
       "      <td>Cybertruck will be waterproof enough to serve ...</td>\n",
       "      <td>1575508498430820352</td>\n",
       "    </tr>\n",
       "    <tr>\n",
       "      <th>4</th>\n",
       "      <td>44196397</td>\n",
       "      <td>[1575507735298207744]</td>\n",
       "      <td>2022-09-29T15:28:10.000Z</td>\n",
       "      <td>@phibetakitten Submarines use electric motors ...</td>\n",
       "      <td>1575507735298207744</td>\n",
       "    </tr>\n",
       "  </tbody>\n",
       "</table>\n",
       "</div>"
      ],
      "text/plain": [
       "  author_id edit_history_tweet_ids                created_at  \\\n",
       "0  44196397  [1575581872913907712]  2022-09-29T20:22:46.000Z   \n",
       "1  44196397  [1575509494510993408]  2022-09-29T15:35:09.000Z   \n",
       "2  44196397  [1575508878300618752]  2022-09-29T15:32:42.000Z   \n",
       "3  44196397  [1575508498430820352]  2022-09-29T15:31:12.000Z   \n",
       "4  44196397  [1575507735298207744]  2022-09-29T15:28:10.000Z   \n",
       "\n",
       "                                                text                   id  \n",
       "0                               @MuskUniversity True  1575581872913907712  \n",
       "1  Needs be able to get from Starbase to South Pa...  1575509494510993408  \n",
       "2                     @WholeMarsBlog Off-label use 🤣  1575508878300618752  \n",
       "3  Cybertruck will be waterproof enough to serve ...  1575508498430820352  \n",
       "4  @phibetakitten Submarines use electric motors ...  1575507735298207744  "
      ]
     },
     "execution_count": 9,
     "metadata": {},
     "output_type": "execute_result"
    }
   ],
   "source": [
    "# Save data as dictionary\n",
    "tweets_dict = tweets.json() \n",
    "# Extract \"data\" value from dictionary\n",
    "tweets_data = tweets_dict['data'] \n",
    "# Transform to pandas Dataframe\n",
    "df = pd.json_normalize(tweets_data) \n",
    "df.head(5)"
   ]
  },
  {
   "cell_type": "markdown",
   "id": "98ff9601-29cf-43f5-ab5c-02de87681754",
   "metadata": {},
   "source": [
    "# Example model: buy Dogecoin on Tuesday, sell Dogecoin on Friday"
   ]
  },
  {
   "cell_type": "code",
   "execution_count": 10,
   "id": "84f04910-377d-4bd5-8bc7-6eaab356bcd6",
   "metadata": {},
   "outputs": [
    {
     "name": "stdout",
     "output_type": "stream",
     "text": [
      "take no action, it's not Tuesday or Friday\n"
     ]
    }
   ],
   "source": [
    "#Determine the day of the week: \n",
    "\n",
    "#https://stackoverflow.com/questions/9847213/how-do-i-get-the-day-of-week-given-a-date\n",
    "#monday is 0, sunday is 6\n",
    "#buy on Tuesday (1) and sell on Friday (4)\n",
    "\n",
    "action = \"none\"\n",
    "\n",
    "day_of_the_week = datetime.today().weekday()\n",
    "if (day_of_the_week == 1):\n",
    "    print(\"buy dogecoin\")\n",
    "    action = \"buy\"\n",
    "elif (day_of_the_week == 4):\n",
    "    print(\"sell dogecoin - make sure you have dogecoin in your account to sell\")\n",
    "    action = \"sell\"\n",
    "else:\n",
    "    print(\"take no action, it's not Tuesday or Friday\")\n",
    "    action = \"none\""
   ]
  },
  {
   "cell_type": "code",
   "execution_count": 11,
   "id": "46f0605d-dffd-45cc-a4a1-3b3f8aff5258",
   "metadata": {},
   "outputs": [
    {
     "data": {
      "text/html": [
       "<div>\n",
       "<style scoped>\n",
       "    .dataframe tbody tr th:only-of-type {\n",
       "        vertical-align: middle;\n",
       "    }\n",
       "\n",
       "    .dataframe tbody tr th {\n",
       "        vertical-align: top;\n",
       "    }\n",
       "\n",
       "    .dataframe thead th {\n",
       "        text-align: right;\n",
       "    }\n",
       "</style>\n",
       "<table border=\"1\" class=\"dataframe\">\n",
       "  <thead>\n",
       "    <tr style=\"text-align: right;\">\n",
       "      <th></th>\n",
       "      <th>exchange</th>\n",
       "      <th>open</th>\n",
       "      <th>high</th>\n",
       "      <th>low</th>\n",
       "      <th>close</th>\n",
       "      <th>volume</th>\n",
       "      <th>trade_count</th>\n",
       "      <th>vwap</th>\n",
       "    </tr>\n",
       "    <tr>\n",
       "      <th>timestamp</th>\n",
       "      <th></th>\n",
       "      <th></th>\n",
       "      <th></th>\n",
       "      <th></th>\n",
       "      <th></th>\n",
       "      <th></th>\n",
       "      <th></th>\n",
       "      <th></th>\n",
       "    </tr>\n",
       "  </thead>\n",
       "  <tbody>\n",
       "    <tr>\n",
       "      <th>2022-09-29 18:00:00+00:00</th>\n",
       "      <td>FTXU</td>\n",
       "      <td>0.059863</td>\n",
       "      <td>0.059992</td>\n",
       "      <td>0.059788</td>\n",
       "      <td>0.059791</td>\n",
       "      <td>64742</td>\n",
       "      <td>19</td>\n",
       "      <td>0.059908</td>\n",
       "    </tr>\n",
       "    <tr>\n",
       "      <th>2022-09-29 19:00:00+00:00</th>\n",
       "      <td>FTXU</td>\n",
       "      <td>0.059854</td>\n",
       "      <td>0.070528</td>\n",
       "      <td>0.056594</td>\n",
       "      <td>0.060081</td>\n",
       "      <td>15602134</td>\n",
       "      <td>289</td>\n",
       "      <td>0.060482</td>\n",
       "    </tr>\n",
       "    <tr>\n",
       "      <th>2022-09-29 20:00:00+00:00</th>\n",
       "      <td>FTXU</td>\n",
       "      <td>0.060075</td>\n",
       "      <td>0.060436</td>\n",
       "      <td>0.060062</td>\n",
       "      <td>0.060436</td>\n",
       "      <td>3750255</td>\n",
       "      <td>167</td>\n",
       "      <td>0.060146</td>\n",
       "    </tr>\n",
       "    <tr>\n",
       "      <th>2022-09-29 21:00:00+00:00</th>\n",
       "      <td>FTXU</td>\n",
       "      <td>0.060447</td>\n",
       "      <td>0.060598</td>\n",
       "      <td>0.060333</td>\n",
       "      <td>0.060333</td>\n",
       "      <td>480483</td>\n",
       "      <td>69</td>\n",
       "      <td>0.060535</td>\n",
       "    </tr>\n",
       "    <tr>\n",
       "      <th>2022-09-29 22:00:00+00:00</th>\n",
       "      <td>FTXU</td>\n",
       "      <td>0.060348</td>\n",
       "      <td>0.060637</td>\n",
       "      <td>0.060254</td>\n",
       "      <td>0.060415</td>\n",
       "      <td>533444</td>\n",
       "      <td>65</td>\n",
       "      <td>0.060428</td>\n",
       "    </tr>\n",
       "  </tbody>\n",
       "</table>\n",
       "</div>"
      ],
      "text/plain": [
       "                          exchange      open      high       low     close  \\\n",
       "timestamp                                                                    \n",
       "2022-09-29 18:00:00+00:00     FTXU  0.059863  0.059992  0.059788  0.059791   \n",
       "2022-09-29 19:00:00+00:00     FTXU  0.059854  0.070528  0.056594  0.060081   \n",
       "2022-09-29 20:00:00+00:00     FTXU  0.060075  0.060436  0.060062  0.060436   \n",
       "2022-09-29 21:00:00+00:00     FTXU  0.060447  0.060598  0.060333  0.060333   \n",
       "2022-09-29 22:00:00+00:00     FTXU  0.060348  0.060637  0.060254  0.060415   \n",
       "\n",
       "                             volume  trade_count      vwap  \n",
       "timestamp                                                   \n",
       "2022-09-29 18:00:00+00:00     64742           19  0.059908  \n",
       "2022-09-29 19:00:00+00:00  15602134          289  0.060482  \n",
       "2022-09-29 20:00:00+00:00   3750255          167  0.060146  \n",
       "2022-09-29 21:00:00+00:00    480483           69  0.060535  \n",
       "2022-09-29 22:00:00+00:00    533444           65  0.060428  "
      ]
     },
     "execution_count": 11,
     "metadata": {},
     "output_type": "execute_result"
    }
   ],
   "source": [
    "# Check Dogecoin's latest price\n",
    "\n",
    "#Dogecoin historical data collection\n",
    "\n",
    "#https://alpaca.markets/learn/code-cryptocurrency-live-trading-bot-python-alpaca/\n",
    "doge_data = api.get_crypto_bars(\"DOGEUSD\", TimeFrame.Hour).df\n",
    "doge_data.tail()\n",
    "#exhanges are CBSE, ERSX, FTXU"
   ]
  },
  {
   "cell_type": "code",
   "execution_count": 12,
   "id": "c9b85119-2074-4c72-8459-202aa7e6e69e",
   "metadata": {},
   "outputs": [
    {
     "name": "stdout",
     "output_type": "stream",
     "text": [
      "your paper trading accout currently has 998.49 dogecoins\n"
     ]
    }
   ],
   "source": [
    "# Check your current position in Dogecoin\n",
    "\n",
    "#Get dogecoin position\n",
    "#If this statement errors out, your account currently doesn't have any dogecoin in it\n",
    "\n",
    "#https://alpaca.markets/learn/code-cryptocurrency-live-trading-bot-python-alpaca/\n",
    "# Get current position on Bitcoin. Yields error if we don't hold any\n",
    "dogecoin_qty_to_sell = api.get_position('DOGEUSD').qty\n",
    "print(f\"your paper trading accout currently has {dogecoin_qty_to_sell} dogecoins\")\n",
    "if (float(dogecoin_qty_to_sell) < 1 ) & (float(dogecoin_qty_to_sell) > 0 ):\n",
    "    print(\"\\nyou have less than 1 dogecoin, you won't be able to sell this through the API because the size is too small. Increase the amount of dogecoin you have to > 1 in order to place a sell order without error.\")"
   ]
  },
  {
   "cell_type": "code",
   "execution_count": 13,
   "id": "661b30fc-47b0-490d-aabc-88578ebf207d",
   "metadata": {},
   "outputs": [
    {
     "data": {
      "text/plain": [
       "'none'"
      ]
     },
     "execution_count": 13,
     "metadata": {},
     "output_type": "execute_result"
    }
   ],
   "source": [
    "action"
   ]
  },
  {
   "cell_type": "code",
   "execution_count": 14,
   "id": "146f70ea-c129-44d0-a0cc-4b95dba1e17e",
   "metadata": {},
   "outputs": [
    {
     "name": "stdout",
     "output_type": "stream",
     "text": [
      "take no action\n"
     ]
    }
   ],
   "source": [
    "# Place trades with Alpaca API \n",
    "\n",
    "if action == \"buy\":\n",
    "    print(\"place buy order with alpaca api\")\n",
    "    api.submit_order('DOGEUSD', qty=1000, side='buy', time_in_force=\"gtc\")\n",
    "elif action == \"sell\":\n",
    "    print(\"place sell order with alpaca api\")\n",
    "    api.submit_order('DOGEUSD', qty=dogecoin_qty_to_sell, side='sell', time_in_force=\"gtc\")\n",
    "else:\n",
    "    print(\"take no action\")"
   ]
  },
  {
   "cell_type": "code",
   "execution_count": 15,
   "id": "96cab2df-ea85-4c48-b7c4-9bfab0811901",
   "metadata": {},
   "outputs": [
    {
     "data": {
      "text/plain": [
       "[]"
      ]
     },
     "execution_count": 15,
     "metadata": {},
     "output_type": "execute_result"
    }
   ],
   "source": [
    "# list your open orders to make sure that everything has closed: \n",
    "\n",
    "# list all of your open orders: \n",
    "\n",
    "#https://forum.alpaca.markets/t/cancel-all-the-open-orders-using-python-api/2890/2\n",
    "\n",
    "open_orders_list = api.list_orders(status='open')\n",
    "open_orders_list"
   ]
  },
  {
   "cell_type": "code",
   "execution_count": 16,
   "id": "a9e658ee-1caa-404c-a23e-708c7930827f",
   "metadata": {},
   "outputs": [
    {
     "name": "stdout",
     "output_type": "stream",
     "text": [
      "your paper trading accout currently has 998.49 dogecoins\n"
     ]
    }
   ],
   "source": [
    "# check your dogecoin position\n",
    "\n",
    "#Get dogecoin position\n",
    "#If this statement errors out, your account currently doesn't have any dogecoin in it\n",
    "\n",
    "#https://alpaca.markets/learn/code-cryptocurrency-live-trading-bot-python-alpaca/\n",
    "# Get current position on Bitcoin. Yields error if we don't hold any\n",
    "dogecoin_qty_to_sell = api.get_position('DOGEUSD').qty\n",
    "print(f\"your paper trading accout currently has {dogecoin_qty_to_sell} dogecoins\")"
   ]
  },
  {
   "cell_type": "code",
   "execution_count": null,
   "id": "22f387ff-e423-44d5-b952-389bee4f3c4e",
   "metadata": {},
   "outputs": [],
   "source": [
    "# print closed orders\n",
    "\n",
    "closed_orders = api.list_orders(\n",
    "    status='closed',\n",
    "    limit=100,\n",
    "    nested=True  # show nested multi-leg orders\n",
    ")\n",
    "\n",
    "closed_orders = [o for o in closed_orders if o.symbol == 'TSLA']\n",
    "print(closed_orders)"
   ]
  },
  {
   "cell_type": "markdown",
   "id": "f9dced57-7694-4242-b60d-69035c70abd0",
   "metadata": {},
   "source": [
    "# Example model: buy Dogecoin if Elon tweets about it"
   ]
  },
  {
   "cell_type": "code",
   "execution_count": 17,
   "id": "3289173a-ac52-4612-9c93-896f79252ebc",
   "metadata": {},
   "outputs": [
    {
     "name": "stdout",
     "output_type": "stream",
     "text": [
      "Empty DataFrame\n",
      "Columns: [author_id, edit_history_tweet_ids, created_at, text, id, upper]\n",
      "Index: []\n",
      "Elon Musk has 0 recent tweets about Dogecoin\n"
     ]
    }
   ],
   "source": [
    "# Check for Doge mentions\n",
    "df[\"upper\"] = df[\"text\"].str.upper()\n",
    "df_doge = df.loc[df[\"upper\"].str.contains(\"DOGE\")].copy()\n",
    "print(df_doge)\n",
    "print(f\"Elon Musk has {len(df_doge)} recent tweets about Dogecoin\")"
   ]
  },
  {
   "cell_type": "code",
   "execution_count": 18,
   "id": "5070b219-4ee4-4942-88a9-d36389d58c32",
   "metadata": {},
   "outputs": [
    {
     "name": "stdout",
     "output_type": "stream",
     "text": [
      "no recent tweets, no actions\n"
     ]
    }
   ],
   "source": [
    "if len(df_doge) > 0:\n",
    "    print(\"recent tweets, buying dogecoin\")\n",
    "    api.submit_order('DOGEUSD', qty=1000, side='buy', time_in_force=\"gtc\")\n",
    "    print(\"you may want to double check your account details to make sure the trade closed successfully\")\n",
    "else:\n",
    "    print(\"no recent tweets, no actions\")"
   ]
  },
  {
   "cell_type": "markdown",
   "id": "b17416c4-56c8-4238-95e2-397e503622a9",
   "metadata": {},
   "source": [
    "# Example model: buy Bitcoin if Elon tweets about it"
   ]
  },
  {
   "cell_type": "code",
   "execution_count": 19,
   "id": "875ab02a-5ffa-4998-af53-585516199801",
   "metadata": {},
   "outputs": [
    {
     "name": "stdout",
     "output_type": "stream",
     "text": [
      "Empty DataFrame\n",
      "Columns: [author_id, edit_history_tweet_ids, created_at, text, id, upper]\n",
      "Index: []\n",
      "Elon Musk has 0 recent tweets about Bitcoin\n"
     ]
    }
   ],
   "source": [
    "# Check for bitcoin mentions\n",
    "searchfor = [\"BITCOIN\", \"BTC\"]\n",
    "df_btc = df[df[\"upper\"].str.contains('|'.join(searchfor))].copy()\n",
    "print(df_btc)\n",
    "print(f\"Elon Musk has {len(df_btc)} recent tweets about Bitcoin\")"
   ]
  },
  {
   "cell_type": "code",
   "execution_count": 20,
   "id": "1f6a70cf-06aa-4913-aa07-e9403f4f1747",
   "metadata": {},
   "outputs": [
    {
     "name": "stdout",
     "output_type": "stream",
     "text": [
      "no recent tweets, no actions\n"
     ]
    }
   ],
   "source": [
    "if len(df_btc) > 0:\n",
    "    print(\"recent tweets, buying bitcoin\")\n",
    "    api.submit_order('BTCUSD', qty=1000, side='buy', time_in_force=\"gtc\")\n",
    "    print(\"you may want to double check your account details to make sure the trade closed successfully\")\n",
    "else:\n",
    "    print(\"no recent tweets, no actions\")"
   ]
  },
  {
   "cell_type": "markdown",
   "id": "d18423ef-e7ff-4473-a278-2aedc403ddb1",
   "metadata": {},
   "source": [
    "# Example model: buy Dogecoin if Elon has tweeted about it lately and there's postive sentiment on average\n",
    "\n",
    "Sentiment can be defined in different ways, this example uses an average threshold of 0.5 to indicate positive sentiment\n",
    "\n",
    "NO ACTIONS if on recent tweets about Dogecoin"
   ]
  },
  {
   "cell_type": "code",
   "execution_count": 21,
   "id": "6c2954c0-0feb-4c50-9c05-7f0b037dcb2e",
   "metadata": {},
   "outputs": [
    {
     "name": "stdout",
     "output_type": "stream",
     "text": [
      "no actions, no recent tweets\n"
     ]
    }
   ],
   "source": [
    "if len(df_doge)> 0:\n",
    "    #add sentimement analysis\n",
    "    print(\"Creating sentiment scores\")\n",
    "    sid = SentimentIntensityAnalyzer()\n",
    "    df_doge[['neg', 'neu', 'pos', 'compound']] = df_doge['text'].apply(sid.polarity_scores).apply(pd.Series)\n",
    "    avg_sent = df_doge[\"compound\"].mean()\n",
    "    print(f\"average sentiment score is {avg_sent}\")\n",
    "    if avg_sent > 0.5:\n",
    "        api.submit_order('BTCUSD', qty=1000, side='buy', time_in_force=\"gtc\")\n",
    "        print(\"you may want to double check your account details to make sure the trade closed successfully\")\n",
    "    else:\n",
    "        print(\"sentiment isn't high enough to buy yet, threshold was 0.5 so no actions taken\")\n",
    "        \n",
    "else:\n",
    "    print(\"no actions, no recent tweets\")"
   ]
  },
  {
   "cell_type": "markdown",
   "id": "e3c84282-55e3-487d-bbf4-82f91197375e",
   "metadata": {},
   "source": [
    "# Example models: SVM / Dogecoin recommendations"
   ]
  },
  {
   "cell_type": "code",
   "execution_count": 22,
   "id": "bdb16171-1c72-4f3c-a15b-f595e4d3473f",
   "metadata": {},
   "outputs": [
    {
     "name": "stdout",
     "output_type": "stream",
     "text": [
      "SVM dogecoin model recommends to BUY dogecoin\n"
     ]
    }
   ],
   "source": [
    "# Pull historical data\n",
    "doge_data = api.get_crypto_bars(\"DOGEUSD\", TimeFrame.Day, \"2021-01-12\", \"2022-09-29\").df\n",
    "doge_data[\"Actual Returns\"] = doge_data[\"close\"].pct_change() #pct change\n",
    "doge_data = doge_data.dropna()\n",
    "\n",
    "# Add SMA calculations\n",
    "short_window = 5\n",
    "long_window = 30\n",
    "doge_data['SMA_Fast'] = doge_data['close'].rolling(window=short_window).mean()\n",
    "doge_data['SMA_Slow'] = doge_data['close'].rolling(window=long_window).mean()\n",
    "doge_data = doge_data.dropna()\n",
    "\n",
    "# Add signal columns\n",
    "# Initialize the new Signal column\n",
    "doge_data['Signal'] = 0\n",
    "# When Actual Returns are greater than or equal to 0, generate signal to buy stock long\n",
    "doge_data.loc[(doge_data['Actual Returns'] >=0), 'Signal'] = 1\n",
    "# TRANSLATION: IF THE DAILY PRICE CHANGE WAS POSITIVE, THEN BUY LONG. IF IT WAS NEGATIE, THEN SELL STOCK SHORT\n",
    "# TRANSLATION: SINCE WE CAN'T SHORT CRYPTO, THE (-1) SIGNAL WILL BE THE SIGNAL TO CLOSE OUR POSITION\n",
    "# When Actual Returns are less than 0, generate signal to sell stock short\n",
    "doge_data.loc[(doge_data['Actual Returns'] < 0), 'Signal'] = -1\n",
    "\n",
    "# Incorporate the models \n",
    "X = doge_data[['SMA_Fast', 'SMA_Slow']].shift().dropna()\n",
    "y = doge_data['Signal']\n",
    "\n",
    "# Select the start of the training period\n",
    "training_begin = X.index[0]#.index.min()\n",
    "\n",
    "# Select the end of the training period\n",
    "from pandas.tseries.offsets import DateOffset\n",
    "training_end = X.index[0] + DateOffset(months=13)\n",
    "\n",
    "# Generate the X_train and y_train DataFrames\n",
    "X_train = X.loc[training_begin:training_end]\n",
    "y_train = y.loc[training_begin:training_end]\n",
    "\n",
    "# Generate the X_test and y_test DataFrames\n",
    "X_test = X.loc[training_end+DateOffset(hours=24):]\n",
    "y_test = y.loc[training_end+DateOffset(hours=24):]\n",
    "\n",
    "# Scale the features DataFrames\n",
    "from sklearn.preprocessing import StandardScaler\n",
    "\n",
    "# Apply the scaler model to fit the X-train data\n",
    "scaler = StandardScaler()\n",
    "X_scaler = scaler.fit(X_train)\n",
    "\n",
    "# Transform the X_train and X_test DataFrames using the X_scaler\n",
    "X_train_scaled = X_scaler.transform(X_train)\n",
    "X_test_scaled = X_scaler.transform(X_test)\n",
    "\n",
    "# Create the svm model\n",
    "# Create the svm classifier model & create predictions dataset\n",
    "from sklearn import svm\n",
    "svm_model = svm.SVC()\n",
    "# Use the testing data to make the model predictions\n",
    "svm_model = svm_model.fit(X_train_scaled, y_train)\n",
    "svm_pred = svm_model.predict(X_test_scaled)\n",
    "if svm_pred[len(svm_pred)-1] == 1:\n",
    "    print(\"SVM dogecoin model recommends to BUY dogecoin\")\n",
    "elif svm_pred[len(svm_pred)-1] == -1:\n",
    "    print(\"SVM dogeoin model recommends to SELL dogecoin\")\n",
    "else:\n",
    "    print(\"Other condition, check SVM dogecoin model\")"
   ]
  },
  {
   "cell_type": "markdown",
   "id": "059bc81f-0bc6-4a62-9cdb-190f7d204d7e",
   "metadata": {},
   "source": [
    "# Other Account Actions"
   ]
  },
  {
   "cell_type": "markdown",
   "id": "dbcaa764-4450-42f2-bdae-2e11c6dd3153",
   "metadata": {},
   "source": [
    "## Place trades with Alpaca trading API\n",
    "\n",
    "As of the time of writing the quantity of 1000 dogecoins corresponds to approx $60 USD worth"
   ]
  },
  {
   "cell_type": "code",
   "execution_count": null,
   "id": "87064f2c-ad49-4b0f-9833-4d881662d67a",
   "metadata": {},
   "outputs": [],
   "source": [
    "if buy_dogecoin == True:\n",
    "    api.submit_order('DOGEUSD', qty=1000, side='buy', time_in_force=\"gtc\")"
   ]
  },
  {
   "cell_type": "markdown",
   "id": "5cae870e-fcd0-44a8-bf6f-7de2ff1f07b3",
   "metadata": {},
   "source": [
    "## Make sure your order when through (open orders list should be empty)"
   ]
  },
  {
   "cell_type": "code",
   "execution_count": 22,
   "id": "90f1b0c1-2cce-401c-bf1d-1b7dae644026",
   "metadata": {},
   "outputs": [
    {
     "data": {
      "text/plain": [
       "[]"
      ]
     },
     "execution_count": 22,
     "metadata": {},
     "output_type": "execute_result"
    }
   ],
   "source": [
    "# list all of your open orders: \n",
    "\n",
    "#https://forum.alpaca.markets/t/cancel-all-the-open-orders-using-python-api/2890/2\n",
    "\n",
    "open_orders_list = api.list_orders(status='open')\n",
    "open_orders_list"
   ]
  },
  {
   "cell_type": "markdown",
   "id": "d9f66be8-49bc-46fe-aa9b-7b517293ef4f",
   "metadata": {},
   "source": [
    "## Get details about the order that you recently placed"
   ]
  },
  {
   "cell_type": "code",
   "execution_count": null,
   "id": "4b0f37ae-00ef-4255-b7c4-54cef5f7578f",
   "metadata": {},
   "outputs": [],
   "source": [
    "# print closed orders\n",
    "\n",
    "closed_orders = api.list_orders(\n",
    "    status='closed',\n",
    "    limit=100,\n",
    "    nested=True  # show nested multi-leg orders\n",
    ")\n",
    "\n",
    "closed_orders = [o for o in closed_orders if o.symbol == 'DOGEUSD']\n",
    "print(closed_orders)"
   ]
  },
  {
   "cell_type": "code",
   "execution_count": null,
   "id": "9d734b7a-e28f-483d-a01a-11f257f8c4a1",
   "metadata": {},
   "outputs": [],
   "source": []
  }
 ],
 "metadata": {
  "kernelspec": {
   "display_name": "Python 3 (ipykernel)",
   "language": "python",
   "name": "python3"
  },
  "language_info": {
   "codemirror_mode": {
    "name": "ipython",
    "version": 3
   },
   "file_extension": ".py",
   "mimetype": "text/x-python",
   "name": "python",
   "nbconvert_exporter": "python",
   "pygments_lexer": "ipython3",
   "version": "3.7.13"
  }
 },
 "nbformat": 4,
 "nbformat_minor": 5
}
